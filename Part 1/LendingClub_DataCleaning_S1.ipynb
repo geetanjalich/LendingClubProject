{
 "cells": [
  {
   "cell_type": "code",
   "execution_count": 1,
   "id": "d8e3e63d",
   "metadata": {},
   "outputs": [],
   "source": [
    "from pyspark.sql import SparkSession\n",
    "import getpass \n",
    "username=getpass.getuser()\n",
    "spark=SparkSession. \\\n",
    "    builder. \\\n",
    "    config('spark.ui.port','0'). \\\n",
    "    config(\"spark.sql.warehouse.dir\", f\"/user/{username}/warehouse\"). \\\n",
    "    config('spark.shuffle.useOldFetchProtocol', 'true'). \\\n",
    "    enableHiveSupport(). \\\n",
    "    master('yarn'). \\\n",
    "    getOrCreate()"
   ]
  },
  {
   "cell_type": "markdown",
   "id": "9fbf2c76",
   "metadata": {},
   "source": [
    "#### 1. create a dataframe with proper datatypes "
   ]
  },
  {
   "cell_type": "code",
   "execution_count": 2,
   "id": "ebbff8d9",
   "metadata": {},
   "outputs": [],
   "source": [
    "customer_schema = 'member_id string, emp_title string, emp_length string, home_ownership string, annual_inc float, addr_state string, zip_code string, country string, grade string, sub_grade string, verification_status string, tot_hi_cred_lim float, application_type string, annual_inc_joint float, verification_status_joint string'"
   ]
  },
  {
   "cell_type": "code",
   "execution_count": 3,
   "id": "5ca1862e",
   "metadata": {},
   "outputs": [],
   "source": [
    "customers_raw_df = spark.read \\\n",
    ".format(\"csv\") \\\n",
    ".option(\"header\",True) \\\n",
    ".schema(customer_schema) \\\n",
    ".load(\"/public/trendytech/lendingclubproject/raw/customers_data_csv\")"
   ]
  },
  {
   "cell_type": "code",
   "execution_count": 4,
   "id": "b2968692",
   "metadata": {},
   "outputs": [
    {
     "data": {
      "text/html": [
       "<table border='1'>\n",
       "<tr><th>member_id</th><th>emp_title</th><th>emp_length</th><th>home_ownership</th><th>annual_inc</th><th>addr_state</th><th>zip_code</th><th>country</th><th>grade</th><th>sub_grade</th><th>verification_status</th><th>tot_hi_cred_lim</th><th>application_type</th><th>annual_inc_joint</th><th>verification_status_joint</th></tr>\n",
       "<tr><td>b59d80da191f5b573...</td><td>null</td><td>null</td><td>RENT</td><td>50000.0</td><td>OR</td><td>973xx</td><td>USA</td><td>A</td><td>A5</td><td>Source Verified</td><td>8600.0</td><td>Individual</td><td>null</td><td>null</td></tr>\n",
       "<tr><td>202d9f56ecb7c3bc9...</td><td>police officer</td><td>7 years</td><td>OWN</td><td>85000.0</td><td>TX</td><td>799xx</td><td>USA</td><td>A</td><td>A5</td><td>Source Verified</td><td>272384.0</td><td>Individual</td><td>null</td><td>null</td></tr>\n",
       "<tr><td>e5a140c0922b554b9...</td><td>community living ...</td><td>6 years</td><td>RENT</td><td>48000.0</td><td>NY</td><td>146xx</td><td>USA</td><td>B</td><td>B2</td><td>Source Verified</td><td>85092.0</td><td>Individual</td><td>null</td><td>null</td></tr>\n",
       "<tr><td>e12aefc548f750777...</td><td>Office</td><td>10+ years</td><td>OWN</td><td>33000.0</td><td>CT</td><td>067xx</td><td>USA</td><td>F</td><td>F1</td><td>Verified</td><td>7100.0</td><td>Individual</td><td>null</td><td>null</td></tr>\n",
       "<tr><td>1b3a50d854fbbf97e...</td><td>Special Tooling I...</td><td>10+ years</td><td>MORTGAGE</td><td>81000.0</td><td>TX</td><td>791xx</td><td>USA</td><td>E</td><td>E5</td><td>Verified</td><td>190274.0</td><td>Individual</td><td>null</td><td>null</td></tr>\n",
       "<tr><td>1c4329e5f17697127...</td><td>Mine ops tech 6</td><td>2 years</td><td>MORTGAGE</td><td>68000.0</td><td>AZ</td><td>855xx</td><td>USA</td><td>C</td><td>C3</td><td>Not Verified</td><td>182453.0</td><td>Individual</td><td>null</td><td>null</td></tr>\n",
       "<tr><td>5026c86ad983175eb...</td><td>caregiver</td><td>4 years</td><td>RENT</td><td>76020.0</td><td>WA</td><td>993xx</td><td>USA</td><td>C</td><td>C2</td><td>Source Verified</td><td>15308.0</td><td>Individual</td><td>null</td><td>null</td></tr>\n",
       "<tr><td>9847d8c1e9d0b2084...</td><td>null</td><td>null</td><td>OWN</td><td>65000.0</td><td>IL</td><td>624xx</td><td>USA</td><td>E</td><td>E3</td><td>Verified</td><td>128800.0</td><td>Individual</td><td>null</td><td>null</td></tr>\n",
       "<tr><td>8340dbe1adea41fb4...</td><td>Vice President Re...</td><td>8 years</td><td>MORTGAGE</td><td>111000.0</td><td>CT</td><td>063xx</td><td>USA</td><td>A</td><td>A1</td><td>Not Verified</td><td>343507.0</td><td>Individual</td><td>null</td><td>null</td></tr>\n",
       "<tr><td>d4de0de3ab7d79ad4...</td><td>FOREMAN</td><td>10+ years</td><td>MORTGAGE</td><td>67000.0</td><td>WA</td><td>992xx</td><td>USA</td><td>G</td><td>G2</td><td>Verified</td><td>211501.0</td><td>Individual</td><td>null</td><td>null</td></tr>\n",
       "<tr><td>3df3cdeddb74a8712...</td><td>Strategist</td><td>1 year</td><td>RENT</td><td>120000.0</td><td>CA</td><td>946xx</td><td>USA</td><td>A</td><td>A5</td><td>Verified</td><td>56844.0</td><td>Individual</td><td>null</td><td>null</td></tr>\n",
       "<tr><td>9dd72636b1b4045b4...</td><td>Office Manager</td><td>2 years</td><td>RENT</td><td>52000.0</td><td>FL</td><td>327xx</td><td>USA</td><td>D</td><td>D1</td><td>Source Verified</td><td>39393.0</td><td>Individual</td><td>null</td><td>null</td></tr>\n",
       "<tr><td>1d4e1ef4353b73c00...</td><td>Electrician</td><td>2 years</td><td>MORTGAGE</td><td>50000.0</td><td>IL</td><td>606xx</td><td>USA</td><td>C</td><td>C3</td><td>Not Verified</td><td>66064.0</td><td>Individual</td><td>null</td><td>null</td></tr>\n",
       "<tr><td>6f196952e71277fd4...</td><td>Finance Manager</td><td>1 year</td><td>MORTGAGE</td><td>125000.0</td><td>GA</td><td>310xx</td><td>USA</td><td>E</td><td>E2</td><td>Source Verified</td><td>555591.0</td><td>Individual</td><td>null</td><td>null</td></tr>\n",
       "<tr><td>9c617cbc6e3e3d6a1...</td><td>Nurse practitioner</td><td>5 years</td><td>MORTGAGE</td><td>165000.0</td><td>IL</td><td>610xx</td><td>USA</td><td>F</td><td>F1</td><td>Source Verified</td><td>366113.0</td><td>Individual</td><td>null</td><td>null</td></tr>\n",
       "<tr><td>45eb04dd75400a942...</td><td>equipment operator</td><td>3 years</td><td>MORTGAGE</td><td>60000.0</td><td>CT</td><td>064xx</td><td>USA</td><td>C</td><td>C4</td><td>Source Verified</td><td>198693.0</td><td>Individual</td><td>null</td><td>null</td></tr>\n",
       "<tr><td>08d233c81f9e50726...</td><td>caregiver</td><td>2 years</td><td>RENT</td><td>36000.0</td><td>MO</td><td>648xx</td><td>USA</td><td>C</td><td>C1</td><td>Source Verified</td><td>14477.0</td><td>Individual</td><td>null</td><td>null</td></tr>\n",
       "<tr><td>8ff4d0ed17a1cab92...</td><td>owner</td><td>10+ years</td><td>MORTGAGE</td><td>28000.0</td><td>CO</td><td>801xx</td><td>USA</td><td>D</td><td>D1</td><td>Verified</td><td>314400.0</td><td>Individual</td><td>null</td><td>null</td></tr>\n",
       "<tr><td>aec13cfd611b2cfea...</td><td>Community Supervi...</td><td>2 years</td><td>RENT</td><td>33000.0</td><td>GA</td><td>306xx</td><td>USA</td><td>D</td><td>D2</td><td>Source Verified</td><td>188700.0</td><td>Individual</td><td>null</td><td>null</td></tr>\n",
       "<tr><td>9ba8c96ccba6cd1f0...</td><td>Contract Specialist</td><td>5 years</td><td>MORTGAGE</td><td>74700.0</td><td>UT</td><td>844xx</td><td>USA</td><td>D</td><td>D4</td><td>Verified</td><td>614272.0</td><td>Individual</td><td>null</td><td>null</td></tr>\n",
       "</table>\n",
       "only showing top 20 rows\n"
      ],
      "text/plain": [
       "+--------------------+--------------------+----------+--------------+----------+----------+--------+-------+-----+---------+-------------------+---------------+----------------+----------------+-------------------------+\n",
       "|           member_id|           emp_title|emp_length|home_ownership|annual_inc|addr_state|zip_code|country|grade|sub_grade|verification_status|tot_hi_cred_lim|application_type|annual_inc_joint|verification_status_joint|\n",
       "+--------------------+--------------------+----------+--------------+----------+----------+--------+-------+-----+---------+-------------------+---------------+----------------+----------------+-------------------------+\n",
       "|b59d80da191f5b573...|                null|      null|          RENT|   50000.0|        OR|   973xx|    USA|    A|       A5|    Source Verified|         8600.0|      Individual|            null|                     null|\n",
       "|202d9f56ecb7c3bc9...|      police officer|   7 years|           OWN|   85000.0|        TX|   799xx|    USA|    A|       A5|    Source Verified|       272384.0|      Individual|            null|                     null|\n",
       "|e5a140c0922b554b9...|community living ...|   6 years|          RENT|   48000.0|        NY|   146xx|    USA|    B|       B2|    Source Verified|        85092.0|      Individual|            null|                     null|\n",
       "|e12aefc548f750777...|              Office| 10+ years|           OWN|   33000.0|        CT|   067xx|    USA|    F|       F1|           Verified|         7100.0|      Individual|            null|                     null|\n",
       "|1b3a50d854fbbf97e...|Special Tooling I...| 10+ years|      MORTGAGE|   81000.0|        TX|   791xx|    USA|    E|       E5|           Verified|       190274.0|      Individual|            null|                     null|\n",
       "|1c4329e5f17697127...|     Mine ops tech 6|   2 years|      MORTGAGE|   68000.0|        AZ|   855xx|    USA|    C|       C3|       Not Verified|       182453.0|      Individual|            null|                     null|\n",
       "|5026c86ad983175eb...|           caregiver|   4 years|          RENT|   76020.0|        WA|   993xx|    USA|    C|       C2|    Source Verified|        15308.0|      Individual|            null|                     null|\n",
       "|9847d8c1e9d0b2084...|                null|      null|           OWN|   65000.0|        IL|   624xx|    USA|    E|       E3|           Verified|       128800.0|      Individual|            null|                     null|\n",
       "|8340dbe1adea41fb4...|Vice President Re...|   8 years|      MORTGAGE|  111000.0|        CT|   063xx|    USA|    A|       A1|       Not Verified|       343507.0|      Individual|            null|                     null|\n",
       "|d4de0de3ab7d79ad4...|             FOREMAN| 10+ years|      MORTGAGE|   67000.0|        WA|   992xx|    USA|    G|       G2|           Verified|       211501.0|      Individual|            null|                     null|\n",
       "|3df3cdeddb74a8712...|          Strategist|    1 year|          RENT|  120000.0|        CA|   946xx|    USA|    A|       A5|           Verified|        56844.0|      Individual|            null|                     null|\n",
       "|9dd72636b1b4045b4...|      Office Manager|   2 years|          RENT|   52000.0|        FL|   327xx|    USA|    D|       D1|    Source Verified|        39393.0|      Individual|            null|                     null|\n",
       "|1d4e1ef4353b73c00...|         Electrician|   2 years|      MORTGAGE|   50000.0|        IL|   606xx|    USA|    C|       C3|       Not Verified|        66064.0|      Individual|            null|                     null|\n",
       "|6f196952e71277fd4...|     Finance Manager|    1 year|      MORTGAGE|  125000.0|        GA|   310xx|    USA|    E|       E2|    Source Verified|       555591.0|      Individual|            null|                     null|\n",
       "|9c617cbc6e3e3d6a1...|  Nurse practitioner|   5 years|      MORTGAGE|  165000.0|        IL|   610xx|    USA|    F|       F1|    Source Verified|       366113.0|      Individual|            null|                     null|\n",
       "|45eb04dd75400a942...|  equipment operator|   3 years|      MORTGAGE|   60000.0|        CT|   064xx|    USA|    C|       C4|    Source Verified|       198693.0|      Individual|            null|                     null|\n",
       "|08d233c81f9e50726...|           caregiver|   2 years|          RENT|   36000.0|        MO|   648xx|    USA|    C|       C1|    Source Verified|        14477.0|      Individual|            null|                     null|\n",
       "|8ff4d0ed17a1cab92...|               owner| 10+ years|      MORTGAGE|   28000.0|        CO|   801xx|    USA|    D|       D1|           Verified|       314400.0|      Individual|            null|                     null|\n",
       "|aec13cfd611b2cfea...|Community Supervi...|   2 years|          RENT|   33000.0|        GA|   306xx|    USA|    D|       D2|    Source Verified|       188700.0|      Individual|            null|                     null|\n",
       "|9ba8c96ccba6cd1f0...| Contract Specialist|   5 years|      MORTGAGE|   74700.0|        UT|   844xx|    USA|    D|       D4|           Verified|       614272.0|      Individual|            null|                     null|\n",
       "+--------------------+--------------------+----------+--------------+----------+----------+--------+-------+-----+---------+-------------------+---------------+----------------+----------------+-------------------------+\n",
       "only showing top 20 rows"
      ]
     },
     "execution_count": 4,
     "metadata": {},
     "output_type": "execute_result"
    }
   ],
   "source": [
    "customers_raw_df"
   ]
  },
  {
   "cell_type": "code",
   "execution_count": 5,
   "id": "f694973a",
   "metadata": {},
   "outputs": [
    {
     "name": "stdout",
     "output_type": "stream",
     "text": [
      "root\n",
      " |-- member_id: string (nullable = true)\n",
      " |-- emp_title: string (nullable = true)\n",
      " |-- emp_length: string (nullable = true)\n",
      " |-- home_ownership: string (nullable = true)\n",
      " |-- annual_inc: float (nullable = true)\n",
      " |-- addr_state: string (nullable = true)\n",
      " |-- zip_code: string (nullable = true)\n",
      " |-- country: string (nullable = true)\n",
      " |-- grade: string (nullable = true)\n",
      " |-- sub_grade: string (nullable = true)\n",
      " |-- verification_status: string (nullable = true)\n",
      " |-- tot_hi_cred_lim: float (nullable = true)\n",
      " |-- application_type: string (nullable = true)\n",
      " |-- annual_inc_joint: float (nullable = true)\n",
      " |-- verification_status_joint: string (nullable = true)\n",
      "\n"
     ]
    }
   ],
   "source": [
    "customers_raw_df.printSchema()"
   ]
  },
  {
   "cell_type": "markdown",
   "id": "0cd4f884",
   "metadata": {},
   "source": [
    "#### 2. Rename a few columns"
   ]
  },
  {
   "cell_type": "code",
   "execution_count": 6,
   "id": "af68956a",
   "metadata": {},
   "outputs": [],
   "source": [
    "customer_df_renamed = customers_raw_df.withColumnRenamed(\"annual_inc\", \"annual_income\") \\\n",
    ".withColumnRenamed(\"addr_state\", \"address_state\") \\\n",
    ".withColumnRenamed(\"zip_code\", \"address_zipcode\") \\\n",
    ".withColumnRenamed(\"country\", \"address_country\") \\\n",
    ".withColumnRenamed(\"tot_hi_credit_lim\", \"total_high_credit_limit\") \\\n",
    ".withColumnRenamed(\"annual_inc_joint\", \"join_annual_income\")"
   ]
  },
  {
   "cell_type": "code",
   "execution_count": 7,
   "id": "33b5a5e1",
   "metadata": {},
   "outputs": [
    {
     "data": {
      "text/html": [
       "<table border='1'>\n",
       "<tr><th>member_id</th><th>emp_title</th><th>emp_length</th><th>home_ownership</th><th>annual_income</th><th>address_state</th><th>address_zipcode</th><th>address_country</th><th>grade</th><th>sub_grade</th><th>verification_status</th><th>tot_hi_cred_lim</th><th>application_type</th><th>join_annual_income</th><th>verification_status_joint</th></tr>\n",
       "<tr><td>b59d80da191f5b573...</td><td>null</td><td>null</td><td>RENT</td><td>50000.0</td><td>OR</td><td>973xx</td><td>USA</td><td>A</td><td>A5</td><td>Source Verified</td><td>8600.0</td><td>Individual</td><td>null</td><td>null</td></tr>\n",
       "<tr><td>202d9f56ecb7c3bc9...</td><td>police officer</td><td>7 years</td><td>OWN</td><td>85000.0</td><td>TX</td><td>799xx</td><td>USA</td><td>A</td><td>A5</td><td>Source Verified</td><td>272384.0</td><td>Individual</td><td>null</td><td>null</td></tr>\n",
       "<tr><td>e5a140c0922b554b9...</td><td>community living ...</td><td>6 years</td><td>RENT</td><td>48000.0</td><td>NY</td><td>146xx</td><td>USA</td><td>B</td><td>B2</td><td>Source Verified</td><td>85092.0</td><td>Individual</td><td>null</td><td>null</td></tr>\n",
       "<tr><td>e12aefc548f750777...</td><td>Office</td><td>10+ years</td><td>OWN</td><td>33000.0</td><td>CT</td><td>067xx</td><td>USA</td><td>F</td><td>F1</td><td>Verified</td><td>7100.0</td><td>Individual</td><td>null</td><td>null</td></tr>\n",
       "<tr><td>1b3a50d854fbbf97e...</td><td>Special Tooling I...</td><td>10+ years</td><td>MORTGAGE</td><td>81000.0</td><td>TX</td><td>791xx</td><td>USA</td><td>E</td><td>E5</td><td>Verified</td><td>190274.0</td><td>Individual</td><td>null</td><td>null</td></tr>\n",
       "<tr><td>1c4329e5f17697127...</td><td>Mine ops tech 6</td><td>2 years</td><td>MORTGAGE</td><td>68000.0</td><td>AZ</td><td>855xx</td><td>USA</td><td>C</td><td>C3</td><td>Not Verified</td><td>182453.0</td><td>Individual</td><td>null</td><td>null</td></tr>\n",
       "<tr><td>5026c86ad983175eb...</td><td>caregiver</td><td>4 years</td><td>RENT</td><td>76020.0</td><td>WA</td><td>993xx</td><td>USA</td><td>C</td><td>C2</td><td>Source Verified</td><td>15308.0</td><td>Individual</td><td>null</td><td>null</td></tr>\n",
       "<tr><td>9847d8c1e9d0b2084...</td><td>null</td><td>null</td><td>OWN</td><td>65000.0</td><td>IL</td><td>624xx</td><td>USA</td><td>E</td><td>E3</td><td>Verified</td><td>128800.0</td><td>Individual</td><td>null</td><td>null</td></tr>\n",
       "<tr><td>8340dbe1adea41fb4...</td><td>Vice President Re...</td><td>8 years</td><td>MORTGAGE</td><td>111000.0</td><td>CT</td><td>063xx</td><td>USA</td><td>A</td><td>A1</td><td>Not Verified</td><td>343507.0</td><td>Individual</td><td>null</td><td>null</td></tr>\n",
       "<tr><td>d4de0de3ab7d79ad4...</td><td>FOREMAN</td><td>10+ years</td><td>MORTGAGE</td><td>67000.0</td><td>WA</td><td>992xx</td><td>USA</td><td>G</td><td>G2</td><td>Verified</td><td>211501.0</td><td>Individual</td><td>null</td><td>null</td></tr>\n",
       "<tr><td>3df3cdeddb74a8712...</td><td>Strategist</td><td>1 year</td><td>RENT</td><td>120000.0</td><td>CA</td><td>946xx</td><td>USA</td><td>A</td><td>A5</td><td>Verified</td><td>56844.0</td><td>Individual</td><td>null</td><td>null</td></tr>\n",
       "<tr><td>9dd72636b1b4045b4...</td><td>Office Manager</td><td>2 years</td><td>RENT</td><td>52000.0</td><td>FL</td><td>327xx</td><td>USA</td><td>D</td><td>D1</td><td>Source Verified</td><td>39393.0</td><td>Individual</td><td>null</td><td>null</td></tr>\n",
       "<tr><td>1d4e1ef4353b73c00...</td><td>Electrician</td><td>2 years</td><td>MORTGAGE</td><td>50000.0</td><td>IL</td><td>606xx</td><td>USA</td><td>C</td><td>C3</td><td>Not Verified</td><td>66064.0</td><td>Individual</td><td>null</td><td>null</td></tr>\n",
       "<tr><td>6f196952e71277fd4...</td><td>Finance Manager</td><td>1 year</td><td>MORTGAGE</td><td>125000.0</td><td>GA</td><td>310xx</td><td>USA</td><td>E</td><td>E2</td><td>Source Verified</td><td>555591.0</td><td>Individual</td><td>null</td><td>null</td></tr>\n",
       "<tr><td>9c617cbc6e3e3d6a1...</td><td>Nurse practitioner</td><td>5 years</td><td>MORTGAGE</td><td>165000.0</td><td>IL</td><td>610xx</td><td>USA</td><td>F</td><td>F1</td><td>Source Verified</td><td>366113.0</td><td>Individual</td><td>null</td><td>null</td></tr>\n",
       "<tr><td>45eb04dd75400a942...</td><td>equipment operator</td><td>3 years</td><td>MORTGAGE</td><td>60000.0</td><td>CT</td><td>064xx</td><td>USA</td><td>C</td><td>C4</td><td>Source Verified</td><td>198693.0</td><td>Individual</td><td>null</td><td>null</td></tr>\n",
       "<tr><td>08d233c81f9e50726...</td><td>caregiver</td><td>2 years</td><td>RENT</td><td>36000.0</td><td>MO</td><td>648xx</td><td>USA</td><td>C</td><td>C1</td><td>Source Verified</td><td>14477.0</td><td>Individual</td><td>null</td><td>null</td></tr>\n",
       "<tr><td>8ff4d0ed17a1cab92...</td><td>owner</td><td>10+ years</td><td>MORTGAGE</td><td>28000.0</td><td>CO</td><td>801xx</td><td>USA</td><td>D</td><td>D1</td><td>Verified</td><td>314400.0</td><td>Individual</td><td>null</td><td>null</td></tr>\n",
       "<tr><td>aec13cfd611b2cfea...</td><td>Community Supervi...</td><td>2 years</td><td>RENT</td><td>33000.0</td><td>GA</td><td>306xx</td><td>USA</td><td>D</td><td>D2</td><td>Source Verified</td><td>188700.0</td><td>Individual</td><td>null</td><td>null</td></tr>\n",
       "<tr><td>9ba8c96ccba6cd1f0...</td><td>Contract Specialist</td><td>5 years</td><td>MORTGAGE</td><td>74700.0</td><td>UT</td><td>844xx</td><td>USA</td><td>D</td><td>D4</td><td>Verified</td><td>614272.0</td><td>Individual</td><td>null</td><td>null</td></tr>\n",
       "</table>\n",
       "only showing top 20 rows\n"
      ],
      "text/plain": [
       "+--------------------+--------------------+----------+--------------+-------------+-------------+---------------+---------------+-----+---------+-------------------+---------------+----------------+------------------+-------------------------+\n",
       "|           member_id|           emp_title|emp_length|home_ownership|annual_income|address_state|address_zipcode|address_country|grade|sub_grade|verification_status|tot_hi_cred_lim|application_type|join_annual_income|verification_status_joint|\n",
       "+--------------------+--------------------+----------+--------------+-------------+-------------+---------------+---------------+-----+---------+-------------------+---------------+----------------+------------------+-------------------------+\n",
       "|b59d80da191f5b573...|                null|      null|          RENT|      50000.0|           OR|          973xx|            USA|    A|       A5|    Source Verified|         8600.0|      Individual|              null|                     null|\n",
       "|202d9f56ecb7c3bc9...|      police officer|   7 years|           OWN|      85000.0|           TX|          799xx|            USA|    A|       A5|    Source Verified|       272384.0|      Individual|              null|                     null|\n",
       "|e5a140c0922b554b9...|community living ...|   6 years|          RENT|      48000.0|           NY|          146xx|            USA|    B|       B2|    Source Verified|        85092.0|      Individual|              null|                     null|\n",
       "|e12aefc548f750777...|              Office| 10+ years|           OWN|      33000.0|           CT|          067xx|            USA|    F|       F1|           Verified|         7100.0|      Individual|              null|                     null|\n",
       "|1b3a50d854fbbf97e...|Special Tooling I...| 10+ years|      MORTGAGE|      81000.0|           TX|          791xx|            USA|    E|       E5|           Verified|       190274.0|      Individual|              null|                     null|\n",
       "|1c4329e5f17697127...|     Mine ops tech 6|   2 years|      MORTGAGE|      68000.0|           AZ|          855xx|            USA|    C|       C3|       Not Verified|       182453.0|      Individual|              null|                     null|\n",
       "|5026c86ad983175eb...|           caregiver|   4 years|          RENT|      76020.0|           WA|          993xx|            USA|    C|       C2|    Source Verified|        15308.0|      Individual|              null|                     null|\n",
       "|9847d8c1e9d0b2084...|                null|      null|           OWN|      65000.0|           IL|          624xx|            USA|    E|       E3|           Verified|       128800.0|      Individual|              null|                     null|\n",
       "|8340dbe1adea41fb4...|Vice President Re...|   8 years|      MORTGAGE|     111000.0|           CT|          063xx|            USA|    A|       A1|       Not Verified|       343507.0|      Individual|              null|                     null|\n",
       "|d4de0de3ab7d79ad4...|             FOREMAN| 10+ years|      MORTGAGE|      67000.0|           WA|          992xx|            USA|    G|       G2|           Verified|       211501.0|      Individual|              null|                     null|\n",
       "|3df3cdeddb74a8712...|          Strategist|    1 year|          RENT|     120000.0|           CA|          946xx|            USA|    A|       A5|           Verified|        56844.0|      Individual|              null|                     null|\n",
       "|9dd72636b1b4045b4...|      Office Manager|   2 years|          RENT|      52000.0|           FL|          327xx|            USA|    D|       D1|    Source Verified|        39393.0|      Individual|              null|                     null|\n",
       "|1d4e1ef4353b73c00...|         Electrician|   2 years|      MORTGAGE|      50000.0|           IL|          606xx|            USA|    C|       C3|       Not Verified|        66064.0|      Individual|              null|                     null|\n",
       "|6f196952e71277fd4...|     Finance Manager|    1 year|      MORTGAGE|     125000.0|           GA|          310xx|            USA|    E|       E2|    Source Verified|       555591.0|      Individual|              null|                     null|\n",
       "|9c617cbc6e3e3d6a1...|  Nurse practitioner|   5 years|      MORTGAGE|     165000.0|           IL|          610xx|            USA|    F|       F1|    Source Verified|       366113.0|      Individual|              null|                     null|\n",
       "|45eb04dd75400a942...|  equipment operator|   3 years|      MORTGAGE|      60000.0|           CT|          064xx|            USA|    C|       C4|    Source Verified|       198693.0|      Individual|              null|                     null|\n",
       "|08d233c81f9e50726...|           caregiver|   2 years|          RENT|      36000.0|           MO|          648xx|            USA|    C|       C1|    Source Verified|        14477.0|      Individual|              null|                     null|\n",
       "|8ff4d0ed17a1cab92...|               owner| 10+ years|      MORTGAGE|      28000.0|           CO|          801xx|            USA|    D|       D1|           Verified|       314400.0|      Individual|              null|                     null|\n",
       "|aec13cfd611b2cfea...|Community Supervi...|   2 years|          RENT|      33000.0|           GA|          306xx|            USA|    D|       D2|    Source Verified|       188700.0|      Individual|              null|                     null|\n",
       "|9ba8c96ccba6cd1f0...| Contract Specialist|   5 years|      MORTGAGE|      74700.0|           UT|          844xx|            USA|    D|       D4|           Verified|       614272.0|      Individual|              null|                     null|\n",
       "+--------------------+--------------------+----------+--------------+-------------+-------------+---------------+---------------+-----+---------+-------------------+---------------+----------------+------------------+-------------------------+\n",
       "only showing top 20 rows"
      ]
     },
     "execution_count": 7,
     "metadata": {},
     "output_type": "execute_result"
    }
   ],
   "source": [
    "customer_df_renamed"
   ]
  },
  {
   "cell_type": "code",
   "execution_count": 8,
   "id": "98253c14",
   "metadata": {},
   "outputs": [],
   "source": [
    "from pyspark.sql.functions import current_timestamp"
   ]
  },
  {
   "cell_type": "markdown",
   "id": "363256e9",
   "metadata": {},
   "source": [
    "#### 3. insert a new column named as ingestion date(current time)"
   ]
  },
  {
   "cell_type": "code",
   "execution_count": 31,
   "id": "ff3523b5",
   "metadata": {},
   "outputs": [],
   "source": [
    "customers_df_ingestd = customer_df_renamed.withColumn(\"ingest_date\", current_timestamp())"
   ]
  },
  {
   "cell_type": "code",
   "execution_count": 32,
   "id": "b49c9e21",
   "metadata": {},
   "outputs": [
    {
     "data": {
      "text/html": [
       "<table border='1'>\n",
       "<tr><th>member_id</th><th>emp_title</th><th>emp_length</th><th>home_ownership</th><th>annual_income</th><th>address_state</th><th>address_zipcode</th><th>address_country</th><th>grade</th><th>sub_grade</th><th>verification_status</th><th>tot_hi_cred_lim</th><th>application_type</th><th>join_annual_income</th><th>verification_status_joint</th><th>ingest_date</th></tr>\n",
       "<tr><td>b59d80da191f5b573...</td><td>null</td><td>null</td><td>RENT</td><td>50000.0</td><td>OR</td><td>973xx</td><td>USA</td><td>A</td><td>A5</td><td>Source Verified</td><td>8600.0</td><td>Individual</td><td>null</td><td>null</td><td>2023-12-31 00:46:...</td></tr>\n",
       "<tr><td>202d9f56ecb7c3bc9...</td><td>police officer</td><td>7 years</td><td>OWN</td><td>85000.0</td><td>TX</td><td>799xx</td><td>USA</td><td>A</td><td>A5</td><td>Source Verified</td><td>272384.0</td><td>Individual</td><td>null</td><td>null</td><td>2023-12-31 00:46:...</td></tr>\n",
       "<tr><td>e5a140c0922b554b9...</td><td>community living ...</td><td>6 years</td><td>RENT</td><td>48000.0</td><td>NY</td><td>146xx</td><td>USA</td><td>B</td><td>B2</td><td>Source Verified</td><td>85092.0</td><td>Individual</td><td>null</td><td>null</td><td>2023-12-31 00:46:...</td></tr>\n",
       "<tr><td>e12aefc548f750777...</td><td>Office</td><td>10+ years</td><td>OWN</td><td>33000.0</td><td>CT</td><td>067xx</td><td>USA</td><td>F</td><td>F1</td><td>Verified</td><td>7100.0</td><td>Individual</td><td>null</td><td>null</td><td>2023-12-31 00:46:...</td></tr>\n",
       "<tr><td>1b3a50d854fbbf97e...</td><td>Special Tooling I...</td><td>10+ years</td><td>MORTGAGE</td><td>81000.0</td><td>TX</td><td>791xx</td><td>USA</td><td>E</td><td>E5</td><td>Verified</td><td>190274.0</td><td>Individual</td><td>null</td><td>null</td><td>2023-12-31 00:46:...</td></tr>\n",
       "<tr><td>1c4329e5f17697127...</td><td>Mine ops tech 6</td><td>2 years</td><td>MORTGAGE</td><td>68000.0</td><td>AZ</td><td>855xx</td><td>USA</td><td>C</td><td>C3</td><td>Not Verified</td><td>182453.0</td><td>Individual</td><td>null</td><td>null</td><td>2023-12-31 00:46:...</td></tr>\n",
       "<tr><td>5026c86ad983175eb...</td><td>caregiver</td><td>4 years</td><td>RENT</td><td>76020.0</td><td>WA</td><td>993xx</td><td>USA</td><td>C</td><td>C2</td><td>Source Verified</td><td>15308.0</td><td>Individual</td><td>null</td><td>null</td><td>2023-12-31 00:46:...</td></tr>\n",
       "<tr><td>9847d8c1e9d0b2084...</td><td>null</td><td>null</td><td>OWN</td><td>65000.0</td><td>IL</td><td>624xx</td><td>USA</td><td>E</td><td>E3</td><td>Verified</td><td>128800.0</td><td>Individual</td><td>null</td><td>null</td><td>2023-12-31 00:46:...</td></tr>\n",
       "<tr><td>8340dbe1adea41fb4...</td><td>Vice President Re...</td><td>8 years</td><td>MORTGAGE</td><td>111000.0</td><td>CT</td><td>063xx</td><td>USA</td><td>A</td><td>A1</td><td>Not Verified</td><td>343507.0</td><td>Individual</td><td>null</td><td>null</td><td>2023-12-31 00:46:...</td></tr>\n",
       "<tr><td>d4de0de3ab7d79ad4...</td><td>FOREMAN</td><td>10+ years</td><td>MORTGAGE</td><td>67000.0</td><td>WA</td><td>992xx</td><td>USA</td><td>G</td><td>G2</td><td>Verified</td><td>211501.0</td><td>Individual</td><td>null</td><td>null</td><td>2023-12-31 00:46:...</td></tr>\n",
       "<tr><td>3df3cdeddb74a8712...</td><td>Strategist</td><td>1 year</td><td>RENT</td><td>120000.0</td><td>CA</td><td>946xx</td><td>USA</td><td>A</td><td>A5</td><td>Verified</td><td>56844.0</td><td>Individual</td><td>null</td><td>null</td><td>2023-12-31 00:46:...</td></tr>\n",
       "<tr><td>9dd72636b1b4045b4...</td><td>Office Manager</td><td>2 years</td><td>RENT</td><td>52000.0</td><td>FL</td><td>327xx</td><td>USA</td><td>D</td><td>D1</td><td>Source Verified</td><td>39393.0</td><td>Individual</td><td>null</td><td>null</td><td>2023-12-31 00:46:...</td></tr>\n",
       "<tr><td>1d4e1ef4353b73c00...</td><td>Electrician</td><td>2 years</td><td>MORTGAGE</td><td>50000.0</td><td>IL</td><td>606xx</td><td>USA</td><td>C</td><td>C3</td><td>Not Verified</td><td>66064.0</td><td>Individual</td><td>null</td><td>null</td><td>2023-12-31 00:46:...</td></tr>\n",
       "<tr><td>6f196952e71277fd4...</td><td>Finance Manager</td><td>1 year</td><td>MORTGAGE</td><td>125000.0</td><td>GA</td><td>310xx</td><td>USA</td><td>E</td><td>E2</td><td>Source Verified</td><td>555591.0</td><td>Individual</td><td>null</td><td>null</td><td>2023-12-31 00:46:...</td></tr>\n",
       "<tr><td>9c617cbc6e3e3d6a1...</td><td>Nurse practitioner</td><td>5 years</td><td>MORTGAGE</td><td>165000.0</td><td>IL</td><td>610xx</td><td>USA</td><td>F</td><td>F1</td><td>Source Verified</td><td>366113.0</td><td>Individual</td><td>null</td><td>null</td><td>2023-12-31 00:46:...</td></tr>\n",
       "<tr><td>45eb04dd75400a942...</td><td>equipment operator</td><td>3 years</td><td>MORTGAGE</td><td>60000.0</td><td>CT</td><td>064xx</td><td>USA</td><td>C</td><td>C4</td><td>Source Verified</td><td>198693.0</td><td>Individual</td><td>null</td><td>null</td><td>2023-12-31 00:46:...</td></tr>\n",
       "<tr><td>08d233c81f9e50726...</td><td>caregiver</td><td>2 years</td><td>RENT</td><td>36000.0</td><td>MO</td><td>648xx</td><td>USA</td><td>C</td><td>C1</td><td>Source Verified</td><td>14477.0</td><td>Individual</td><td>null</td><td>null</td><td>2023-12-31 00:46:...</td></tr>\n",
       "<tr><td>8ff4d0ed17a1cab92...</td><td>owner</td><td>10+ years</td><td>MORTGAGE</td><td>28000.0</td><td>CO</td><td>801xx</td><td>USA</td><td>D</td><td>D1</td><td>Verified</td><td>314400.0</td><td>Individual</td><td>null</td><td>null</td><td>2023-12-31 00:46:...</td></tr>\n",
       "<tr><td>aec13cfd611b2cfea...</td><td>Community Supervi...</td><td>2 years</td><td>RENT</td><td>33000.0</td><td>GA</td><td>306xx</td><td>USA</td><td>D</td><td>D2</td><td>Source Verified</td><td>188700.0</td><td>Individual</td><td>null</td><td>null</td><td>2023-12-31 00:46:...</td></tr>\n",
       "<tr><td>9ba8c96ccba6cd1f0...</td><td>Contract Specialist</td><td>5 years</td><td>MORTGAGE</td><td>74700.0</td><td>UT</td><td>844xx</td><td>USA</td><td>D</td><td>D4</td><td>Verified</td><td>614272.0</td><td>Individual</td><td>null</td><td>null</td><td>2023-12-31 00:46:...</td></tr>\n",
       "</table>\n",
       "only showing top 20 rows\n"
      ],
      "text/plain": [
       "+--------------------+--------------------+----------+--------------+-------------+-------------+---------------+---------------+-----+---------+-------------------+---------------+----------------+------------------+-------------------------+--------------------+\n",
       "|           member_id|           emp_title|emp_length|home_ownership|annual_income|address_state|address_zipcode|address_country|grade|sub_grade|verification_status|tot_hi_cred_lim|application_type|join_annual_income|verification_status_joint|         ingest_date|\n",
       "+--------------------+--------------------+----------+--------------+-------------+-------------+---------------+---------------+-----+---------+-------------------+---------------+----------------+------------------+-------------------------+--------------------+\n",
       "|b59d80da191f5b573...|                null|      null|          RENT|      50000.0|           OR|          973xx|            USA|    A|       A5|    Source Verified|         8600.0|      Individual|              null|                     null|2023-12-31 00:46:...|\n",
       "|202d9f56ecb7c3bc9...|      police officer|   7 years|           OWN|      85000.0|           TX|          799xx|            USA|    A|       A5|    Source Verified|       272384.0|      Individual|              null|                     null|2023-12-31 00:46:...|\n",
       "|e5a140c0922b554b9...|community living ...|   6 years|          RENT|      48000.0|           NY|          146xx|            USA|    B|       B2|    Source Verified|        85092.0|      Individual|              null|                     null|2023-12-31 00:46:...|\n",
       "|e12aefc548f750777...|              Office| 10+ years|           OWN|      33000.0|           CT|          067xx|            USA|    F|       F1|           Verified|         7100.0|      Individual|              null|                     null|2023-12-31 00:46:...|\n",
       "|1b3a50d854fbbf97e...|Special Tooling I...| 10+ years|      MORTGAGE|      81000.0|           TX|          791xx|            USA|    E|       E5|           Verified|       190274.0|      Individual|              null|                     null|2023-12-31 00:46:...|\n",
       "|1c4329e5f17697127...|     Mine ops tech 6|   2 years|      MORTGAGE|      68000.0|           AZ|          855xx|            USA|    C|       C3|       Not Verified|       182453.0|      Individual|              null|                     null|2023-12-31 00:46:...|\n",
       "|5026c86ad983175eb...|           caregiver|   4 years|          RENT|      76020.0|           WA|          993xx|            USA|    C|       C2|    Source Verified|        15308.0|      Individual|              null|                     null|2023-12-31 00:46:...|\n",
       "|9847d8c1e9d0b2084...|                null|      null|           OWN|      65000.0|           IL|          624xx|            USA|    E|       E3|           Verified|       128800.0|      Individual|              null|                     null|2023-12-31 00:46:...|\n",
       "|8340dbe1adea41fb4...|Vice President Re...|   8 years|      MORTGAGE|     111000.0|           CT|          063xx|            USA|    A|       A1|       Not Verified|       343507.0|      Individual|              null|                     null|2023-12-31 00:46:...|\n",
       "|d4de0de3ab7d79ad4...|             FOREMAN| 10+ years|      MORTGAGE|      67000.0|           WA|          992xx|            USA|    G|       G2|           Verified|       211501.0|      Individual|              null|                     null|2023-12-31 00:46:...|\n",
       "|3df3cdeddb74a8712...|          Strategist|    1 year|          RENT|     120000.0|           CA|          946xx|            USA|    A|       A5|           Verified|        56844.0|      Individual|              null|                     null|2023-12-31 00:46:...|\n",
       "|9dd72636b1b4045b4...|      Office Manager|   2 years|          RENT|      52000.0|           FL|          327xx|            USA|    D|       D1|    Source Verified|        39393.0|      Individual|              null|                     null|2023-12-31 00:46:...|\n",
       "|1d4e1ef4353b73c00...|         Electrician|   2 years|      MORTGAGE|      50000.0|           IL|          606xx|            USA|    C|       C3|       Not Verified|        66064.0|      Individual|              null|                     null|2023-12-31 00:46:...|\n",
       "|6f196952e71277fd4...|     Finance Manager|    1 year|      MORTGAGE|     125000.0|           GA|          310xx|            USA|    E|       E2|    Source Verified|       555591.0|      Individual|              null|                     null|2023-12-31 00:46:...|\n",
       "|9c617cbc6e3e3d6a1...|  Nurse practitioner|   5 years|      MORTGAGE|     165000.0|           IL|          610xx|            USA|    F|       F1|    Source Verified|       366113.0|      Individual|              null|                     null|2023-12-31 00:46:...|\n",
       "|45eb04dd75400a942...|  equipment operator|   3 years|      MORTGAGE|      60000.0|           CT|          064xx|            USA|    C|       C4|    Source Verified|       198693.0|      Individual|              null|                     null|2023-12-31 00:46:...|\n",
       "|08d233c81f9e50726...|           caregiver|   2 years|          RENT|      36000.0|           MO|          648xx|            USA|    C|       C1|    Source Verified|        14477.0|      Individual|              null|                     null|2023-12-31 00:46:...|\n",
       "|8ff4d0ed17a1cab92...|               owner| 10+ years|      MORTGAGE|      28000.0|           CO|          801xx|            USA|    D|       D1|           Verified|       314400.0|      Individual|              null|                     null|2023-12-31 00:46:...|\n",
       "|aec13cfd611b2cfea...|Community Supervi...|   2 years|          RENT|      33000.0|           GA|          306xx|            USA|    D|       D2|    Source Verified|       188700.0|      Individual|              null|                     null|2023-12-31 00:46:...|\n",
       "|9ba8c96ccba6cd1f0...| Contract Specialist|   5 years|      MORTGAGE|      74700.0|           UT|          844xx|            USA|    D|       D4|           Verified|       614272.0|      Individual|              null|                     null|2023-12-31 00:46:...|\n",
       "+--------------------+--------------------+----------+--------------+-------------+-------------+---------------+---------------+-----+---------+-------------------+---------------+----------------+------------------+-------------------------+--------------------+\n",
       "only showing top 20 rows"
      ]
     },
     "execution_count": 32,
     "metadata": {},
     "output_type": "execute_result"
    }
   ],
   "source": [
    "customers_df_ingestd"
   ]
  },
  {
   "cell_type": "markdown",
   "id": "c500b8d7",
   "metadata": {},
   "source": [
    "#### 4. Remove complete duplicate rows"
   ]
  },
  {
   "cell_type": "code",
   "execution_count": 33,
   "id": "0f2fb376",
   "metadata": {},
   "outputs": [
    {
     "data": {
      "text/plain": [
       "2260701"
      ]
     },
     "execution_count": 33,
     "metadata": {},
     "output_type": "execute_result"
    }
   ],
   "source": [
    "customers_df_ingestd.count()"
   ]
  },
  {
   "cell_type": "code",
   "execution_count": 34,
   "id": "325bac99",
   "metadata": {},
   "outputs": [],
   "source": [
    "customers_distinct = customers_df_ingestd.distinct()"
   ]
  },
  {
   "cell_type": "code",
   "execution_count": 35,
   "id": "d878ed33",
   "metadata": {},
   "outputs": [
    {
     "data": {
      "text/plain": [
       "2260638"
      ]
     },
     "execution_count": 35,
     "metadata": {},
     "output_type": "execute_result"
    }
   ],
   "source": [
    "customers_distinct.count()"
   ]
  },
  {
   "cell_type": "code",
   "execution_count": 36,
   "id": "a2a08c48",
   "metadata": {},
   "outputs": [],
   "source": [
    "customers_distinct.createOrReplaceTempView(\"customers\")"
   ]
  },
  {
   "cell_type": "code",
   "execution_count": 37,
   "id": "77af55a4",
   "metadata": {},
   "outputs": [
    {
     "data": {
      "text/html": [
       "<table border='1'>\n",
       "<tr><th>member_id</th><th>emp_title</th><th>emp_length</th><th>home_ownership</th><th>annual_income</th><th>address_state</th><th>address_zipcode</th><th>address_country</th><th>grade</th><th>sub_grade</th><th>verification_status</th><th>tot_hi_cred_lim</th><th>application_type</th><th>join_annual_income</th><th>verification_status_joint</th><th>ingest_date</th></tr>\n",
       "<tr><td>7c27017e8258b64e7...</td><td>null</td><td>null</td><td>RENT</td><td>14000.0</td><td>CA</td><td>907xx</td><td>USA</td><td>C</td><td>C5</td><td>Source Verified</td><td>6436.0</td><td>Individual</td><td>null</td><td>null</td><td>2023-12-31 00:46:...</td></tr>\n",
       "<tr><td>d46df6e7bc3c62431...</td><td>Legal Administrat...</td><td>4 years</td><td>RENT</td><td>35360.0</td><td>CA</td><td>902xx</td><td>USA</td><td>G</td><td>G2</td><td>Verified</td><td>16963.0</td><td>Individual</td><td>null</td><td>null</td><td>2023-12-31 00:46:...</td></tr>\n",
       "<tr><td>959d45e7dfcabaf78...</td><td>Access Control Sp...</td><td>7 years</td><td>RENT</td><td>52000.0</td><td>DC</td><td>200xx</td><td>USA</td><td>C</td><td>C3</td><td>Not Verified</td><td>83154.0</td><td>Individual</td><td>null</td><td>null</td><td>2023-12-31 00:46:...</td></tr>\n",
       "<tr><td>96172517474d8f69c...</td><td>OWNER</td><td>5 years</td><td>RENT</td><td>57000.0</td><td>FL</td><td>328xx</td><td>USA</td><td>D</td><td>D1</td><td>Source Verified</td><td>45721.0</td><td>Individual</td><td>null</td><td>null</td><td>2023-12-31 00:46:...</td></tr>\n",
       "<tr><td>bc73ad92a5de0ec20...</td><td>Business account ...</td><td>7 years</td><td>MORTGAGE</td><td>100000.0</td><td>FL</td><td>335xx</td><td>USA</td><td>B</td><td>B4</td><td>Source Verified</td><td>139418.0</td><td>Individual</td><td>null</td><td>null</td><td>2023-12-31 00:46:...</td></tr>\n",
       "<tr><td>9185f33e48e2b1129...</td><td>Arch/ Eng Tech</td><td>10+ years</td><td>MORTGAGE</td><td>78000.0</td><td>IL</td><td>605xx</td><td>USA</td><td>C</td><td>C5</td><td>Not Verified</td><td>40200.0</td><td>Individual</td><td>null</td><td>null</td><td>2023-12-31 00:46:...</td></tr>\n",
       "<tr><td>2f7df5b7d6d3b1050...</td><td>Supervisor</td><td>7 years</td><td>OWN</td><td>65000.0</td><td>PA</td><td>194xx</td><td>USA</td><td>B</td><td>B4</td><td>Source Verified</td><td>264200.0</td><td>Individual</td><td>null</td><td>null</td><td>2023-12-31 00:46:...</td></tr>\n",
       "<tr><td>254b724ea7e902228...</td><td>Driver</td><td>10+ years</td><td>RENT</td><td>45000.0</td><td>CA</td><td>906xx</td><td>USA</td><td>C</td><td>C1</td><td>Source Verified</td><td>28301.0</td><td>Individual</td><td>null</td><td>null</td><td>2023-12-31 00:46:...</td></tr>\n",
       "<tr><td>40daad042214e292d...</td><td>IT Training Manager</td><td>2 years</td><td>RENT</td><td>151000.0</td><td>NY</td><td>100xx</td><td>USA</td><td>D</td><td>D1</td><td>Verified</td><td>107515.0</td><td>Individual</td><td>null</td><td>null</td><td>2023-12-31 00:46:...</td></tr>\n",
       "<tr><td>403f35d892e515317...</td><td>Mortgage</td><td>10+ years</td><td>RENT</td><td>39520.0</td><td>SC</td><td>292xx</td><td>USA</td><td>C</td><td>C5</td><td>Source Verified</td><td>64463.0</td><td>Individual</td><td>null</td><td>null</td><td>2023-12-31 00:46:...</td></tr>\n",
       "<tr><td>4ed1031035419291d...</td><td>Sales</td><td>7 years</td><td>MORTGAGE</td><td>50000.0</td><td>FL</td><td>344xx</td><td>USA</td><td>B</td><td>B4</td><td>Source Verified</td><td>134625.0</td><td>Individual</td><td>null</td><td>null</td><td>2023-12-31 00:46:...</td></tr>\n",
       "<tr><td>cffe29c926fbb4c08...</td><td>TRAIN OPERATOR</td><td>9 years</td><td>RENT</td><td>80000.0</td><td>NY</td><td>125xx</td><td>USA</td><td>C</td><td>C1</td><td>Source Verified</td><td>21800.0</td><td>Individual</td><td>null</td><td>null</td><td>2023-12-31 00:46:...</td></tr>\n",
       "<tr><td>6aef399f49677dd2d...</td><td>Substitute teacher</td><td>&lt; 1 year</td><td>RENT</td><td>25000.0</td><td>TX</td><td>774xx</td><td>USA</td><td>D</td><td>D1</td><td>Not Verified</td><td>6000.0</td><td>Individual</td><td>null</td><td>null</td><td>2023-12-31 00:46:...</td></tr>\n",
       "<tr><td>97d5dbcd18ce0c56b...</td><td>Manager</td><td>2 years</td><td>RENT</td><td>185000.0</td><td>NY</td><td>111xx</td><td>USA</td><td>C</td><td>C4</td><td>Source Verified</td><td>39700.0</td><td>Individual</td><td>null</td><td>null</td><td>2023-12-31 00:46:...</td></tr>\n",
       "<tr><td>b1fe2ee8040f137b7...</td><td>Front Office Manager</td><td>3 years</td><td>RENT</td><td>47880.0</td><td>AR</td><td>727xx</td><td>USA</td><td>D</td><td>D2</td><td>Source Verified</td><td>41045.0</td><td>Individual</td><td>null</td><td>null</td><td>2023-12-31 00:46:...</td></tr>\n",
       "<tr><td>599475c1e9dd4465a...</td><td>Executive Assistant</td><td>9 years</td><td>RENT</td><td>60000.0</td><td>OR</td><td>972xx</td><td>USA</td><td>C</td><td>C1</td><td>Verified</td><td>63387.0</td><td>Individual</td><td>null</td><td>null</td><td>2023-12-31 00:46:...</td></tr>\n",
       "<tr><td>8c6311519122db372...</td><td>Manager/bartender</td><td>2 years</td><td>RENT</td><td>70000.0</td><td>OR</td><td>970xx</td><td>USA</td><td>C</td><td>C4</td><td>Source Verified</td><td>50200.0</td><td>Individual</td><td>null</td><td>null</td><td>2023-12-31 00:46:...</td></tr>\n",
       "<tr><td>75d83dcd3c6428a58...</td><td>Correction officer</td><td>10+ years</td><td>OWN</td><td>69000.0</td><td>CT</td><td>068xx</td><td>USA</td><td>C</td><td>C2</td><td>Verified</td><td>228200.0</td><td>Individual</td><td>null</td><td>null</td><td>2023-12-31 00:46:...</td></tr>\n",
       "<tr><td>9d30faa65479c6150...</td><td>Benefits Analyst</td><td>8 years</td><td>RENT</td><td>75000.0</td><td>CA</td><td>940xx</td><td>USA</td><td>D</td><td>D4</td><td>Source Verified</td><td>80114.0</td><td>Individual</td><td>null</td><td>null</td><td>2023-12-31 00:46:...</td></tr>\n",
       "<tr><td>539e4b179d85b5ba2...</td><td>Inventory Supervisor</td><td>5 years</td><td>MORTGAGE</td><td>50000.0</td><td>NC</td><td>272xx</td><td>USA</td><td>C</td><td>C1</td><td>Verified</td><td>38188.0</td><td>Individual</td><td>null</td><td>null</td><td>2023-12-31 00:46:...</td></tr>\n",
       "</table>\n",
       "only showing top 20 rows\n"
      ],
      "text/plain": [
       "+--------------------+--------------------+----------+--------------+-------------+-------------+---------------+---------------+-----+---------+-------------------+---------------+----------------+------------------+-------------------------+--------------------+\n",
       "|           member_id|           emp_title|emp_length|home_ownership|annual_income|address_state|address_zipcode|address_country|grade|sub_grade|verification_status|tot_hi_cred_lim|application_type|join_annual_income|verification_status_joint|         ingest_date|\n",
       "+--------------------+--------------------+----------+--------------+-------------+-------------+---------------+---------------+-----+---------+-------------------+---------------+----------------+------------------+-------------------------+--------------------+\n",
       "|02c9e70abedc9258d...|In Home Health Su...|    1 year|          RENT|      64340.0|           CA|          913xx|            USA|    D|       D2|           Verified|        35800.0|      Individual|              null|                     null|2023-12-31 00:46:...|\n",
       "|88a462b3e2bf8fa22...|Vice President bu...|   3 years|      MORTGAGE|     189000.0|           MA|          021xx|            USA|    C|       C3|    Source Verified|       594095.0|      Individual|              null|                     null|2023-12-31 00:46:...|\n",
       "|b59dd149ffa350e68...|       It Specialist|   9 years|      MORTGAGE|      96000.0|           TX|          786xx|            USA|    D|       D5|       Not Verified|       378463.0|      Individual|              null|                     null|2023-12-31 00:46:...|\n",
       "|7843984d77c82b68f...|         Electrician| 10+ years|      MORTGAGE|      66000.0|           CA|          934xx|            USA|    C|       C5|    Source Verified|        86900.0|      Individual|              null|                     null|2023-12-31 00:46:...|\n",
       "|97a3a65941785d8a1...|       lead operator| 10+ years|          RENT|      80000.0|           NV|          894xx|            USA|    C|       C1|       Not Verified|        73862.0|      Individual|              null|                     null|2023-12-31 00:46:...|\n",
       "|04fd20a7af05abc74...|        Broker/Owner|   3 years|          RENT|      75000.0|           MD|          210xx|            USA|    D|       D1|       Not Verified|       276634.0|      Individual|              null|                     null|2023-12-31 00:46:...|\n",
       "|9a032ccba1dfb5909...|Director of Utili...| 10+ years|      MORTGAGE|      89000.0|           NC|          281xx|            USA|    E|       E3|    Source Verified|       230126.0|      Individual|              null|                     null|2023-12-31 00:46:...|\n",
       "|8801163b12b6bdc68...|                 LTC| 10+ years|          RENT|     105000.0|           MD|          217xx|            USA|    A|       A2|       Not Verified|       254740.0|      Individual|              null|                     null|2023-12-31 00:46:...|\n",
       "|23f01693e6317e3a8...|               Pilot|    1 year|      MORTGAGE|      90000.0|           CT|          068xx|            USA|    A|       A5|    Source Verified|       291000.0|      Individual|              null|                     null|2023-12-31 00:46:...|\n",
       "|5efb409485f34aa24...|                null|      null|      MORTGAGE|      55000.0|           FL|          344xx|            USA|    B|       B3|    Source Verified|       241001.0|      Individual|              null|                     null|2023-12-31 00:46:...|\n",
       "|50928e054721978e9...| Application analyst|   5 years|          RENT|      42000.0|           AZ|          852xx|            USA|    C|       C5|           Verified|        19100.0|      Individual|              null|                     null|2023-12-31 00:46:...|\n",
       "|7c71c4e76b035fadb...|        Housekeeping|   9 years|          RENT|      42000.0|           NV|          891xx|            USA|    C|       C5|           Verified|        73800.0|      Individual|              null|                     null|2023-12-31 00:46:...|\n",
       "|b903a4326d9621538...|Facilities  coord...| 10+ years|      MORTGAGE|      92700.0|           LA|          705xx|            USA|    D|       D4|    Source Verified|       272713.0|      Individual|              null|                     null|2023-12-31 00:46:...|\n",
       "|b3dc1abec86855ce5...|IBM Datastage Dev...|   2 years|          RENT|      90000.0|           OH|          450xx|            USA|    C|       C1|       Not Verified|        53088.0|      Individual|              null|                     null|2023-12-31 00:46:...|\n",
       "|4452da8d1ecc12a97...|       Assistant Mgr|  < 1 year|      MORTGAGE|     130000.0|           IN|          471xx|            USA|    A|       A3|    Source Verified|       204573.0|      Individual|              null|                     null|2023-12-31 00:46:...|\n",
       "|05865dc18c2419eae...|          Supervisor|   2 years|          RENT|      50000.0|           NJ|          076xx|            USA|    B|       B5|    Source Verified|        13000.0|      Individual|              null|                     null|2023-12-31 00:46:...|\n",
       "|5abd2fc06d296f014...|     Quality control|   2 years|          RENT|      52000.0|           PA|          191xx|            USA|    B|       B5|    Source Verified|        93448.0|      Individual|              null|                     null|2023-12-31 00:46:...|\n",
       "|256c78917704bd93a...|Manager, Informat...|   8 years|           OWN|     122000.0|           MI|          493xx|            USA|    C|       C1|           Verified|       292875.0|      Individual|              null|                     null|2023-12-31 00:46:...|\n",
       "|2f9a27f849897f19b...|             Analyst|   9 years|      MORTGAGE|      98000.0|           IL|          601xx|            USA|    B|       B1|           Verified|       221396.0|      Individual|              null|                     null|2023-12-31 00:46:...|\n",
       "|fc889f2de7f85fb61...|               Sales|   7 years|      MORTGAGE|     150000.0|           GA|          300xx|            USA|    B|       B5|    Source Verified|       573200.0|      Individual|              null|                     null|2023-12-31 00:46:...|\n",
       "+--------------------+--------------------+----------+--------------+-------------+-------------+---------------+---------------+-----+---------+-------------------+---------------+----------------+------------------+-------------------------+--------------------+\n",
       "only showing top 20 rows"
      ]
     },
     "execution_count": 37,
     "metadata": {},
     "output_type": "execute_result"
    }
   ],
   "source": [
    "spark.sql(\"select * from customers\")"
   ]
  },
  {
   "cell_type": "markdown",
   "id": "fa0b9c40",
   "metadata": {},
   "source": [
    "#### 5. Remove the rows where annual_income is null"
   ]
  },
  {
   "cell_type": "code",
   "execution_count": 38,
   "id": "f7f1b1d7",
   "metadata": {},
   "outputs": [
    {
     "data": {
      "text/html": [
       "<table border='1'>\n",
       "<tr><th>count(1)</th></tr>\n",
       "<tr><td>5</td></tr>\n",
       "</table>\n"
      ],
      "text/plain": [
       "+--------+\n",
       "|count(1)|\n",
       "+--------+\n",
       "|       5|\n",
       "+--------+"
      ]
     },
     "execution_count": 38,
     "metadata": {},
     "output_type": "execute_result"
    }
   ],
   "source": [
    "spark.sql(\"select count(*) from customers where annual_income is null\")"
   ]
  },
  {
   "cell_type": "code",
   "execution_count": 39,
   "id": "6a7ab9ea",
   "metadata": {},
   "outputs": [],
   "source": [
    "customers_income_filtered = spark.sql(\"select * from customers where annual_income is not null\")"
   ]
  },
  {
   "cell_type": "code",
   "execution_count": 40,
   "id": "8f7ab728",
   "metadata": {},
   "outputs": [],
   "source": [
    "customers_income_filtered.createOrReplaceTempView(\"customers\")"
   ]
  },
  {
   "cell_type": "markdown",
   "id": "06d34450",
   "metadata": {},
   "source": [
    "### 6. convert emp_length to integer"
   ]
  },
  {
   "cell_type": "code",
   "execution_count": 42,
   "id": "98fa53ee",
   "metadata": {},
   "outputs": [
    {
     "data": {
      "text/html": [
       "<table border='1'>\n",
       "<tr><th>emp_length</th></tr>\n",
       "<tr><td>9 years</td></tr>\n",
       "<tr><td>5 years</td></tr>\n",
       "<tr><td>null</td></tr>\n",
       "<tr><td>1 year</td></tr>\n",
       "<tr><td>2 years</td></tr>\n",
       "<tr><td>7 years</td></tr>\n",
       "<tr><td>8 years</td></tr>\n",
       "<tr><td>4 years</td></tr>\n",
       "<tr><td>6 years</td></tr>\n",
       "<tr><td>3 years</td></tr>\n",
       "<tr><td>10+ years</td></tr>\n",
       "<tr><td>&lt; 1 year</td></tr>\n",
       "</table>\n"
      ],
      "text/plain": [
       "+----------+\n",
       "|emp_length|\n",
       "+----------+\n",
       "|   5 years|\n",
       "|   9 years|\n",
       "|      null|\n",
       "|    1 year|\n",
       "|   2 years|\n",
       "|   7 years|\n",
       "|   8 years|\n",
       "|   4 years|\n",
       "|   6 years|\n",
       "|   3 years|\n",
       "| 10+ years|\n",
       "|  < 1 year|\n",
       "+----------+"
      ]
     },
     "execution_count": 42,
     "metadata": {},
     "output_type": "execute_result"
    }
   ],
   "source": [
    "spark.sql(\"select distinct(emp_length) from customers\")"
   ]
  },
  {
   "cell_type": "code",
   "execution_count": 43,
   "id": "a2ff207d",
   "metadata": {},
   "outputs": [],
   "source": [
    "from pyspark.sql.functions import regexp_replace, col"
   ]
  },
  {
   "cell_type": "code",
   "execution_count": 44,
   "id": "38fc212c",
   "metadata": {},
   "outputs": [],
   "source": [
    "customers_emplength_cleaned = customers_income_filtered.withColumn(\"emp_length\", regexp_replace(col(\"emp_length\"), \"(\\D)\",\"\"))"
   ]
  },
  {
   "cell_type": "code",
   "execution_count": 45,
   "id": "09e87f55",
   "metadata": {},
   "outputs": [
    {
     "data": {
      "text/html": [
       "<table border='1'>\n",
       "<tr><th>member_id</th><th>emp_title</th><th>emp_length</th><th>home_ownership</th><th>annual_income</th><th>address_state</th><th>address_zipcode</th><th>address_country</th><th>grade</th><th>sub_grade</th><th>verification_status</th><th>tot_hi_cred_lim</th><th>application_type</th><th>join_annual_income</th><th>verification_status_joint</th><th>ingest_date</th></tr>\n",
       "<tr><td>52817b840418f1c32...</td><td>Bus Operator/Mech...</td><td>10</td><td>MORTGAGE</td><td>49000.0</td><td>WV</td><td>258xx</td><td>USA</td><td>A</td><td>A4</td><td>Source Verified</td><td>208200.0</td><td>Individual</td><td>null</td><td>null</td><td>2023-12-31 00:47:...</td></tr>\n",
       "<tr><td>9e2995bead58b0eb7...</td><td>Regional BIM Manager</td><td>2</td><td>RENT</td><td>105000.0</td><td>CA</td><td>900xx</td><td>USA</td><td>B</td><td>B5</td><td>Source Verified</td><td>65798.0</td><td>Individual</td><td>null</td><td>null</td><td>2023-12-31 00:47:...</td></tr>\n",
       "<tr><td>ba04c4d49e7f1ac8d...</td><td>Train Operator</td><td>6</td><td>MORTGAGE</td><td>98000.0</td><td>NY</td><td>110xx</td><td>USA</td><td>B</td><td>B1</td><td>Not Verified</td><td>193981.0</td><td>Individual</td><td>null</td><td>null</td><td>2023-12-31 00:47:...</td></tr>\n",
       "<tr><td>bbbfcfae3e7bc1b77...</td><td>IT Consultant</td><td>2</td><td>RENT</td><td>65000.0</td><td>CA</td><td>913xx</td><td>USA</td><td>B</td><td>B4</td><td>Not Verified</td><td>63829.0</td><td>Individual</td><td>null</td><td>null</td><td>2023-12-31 00:47:...</td></tr>\n",
       "<tr><td>023653d46456279f0...</td><td>Care giver</td><td>1</td><td>RENT</td><td>45000.0</td><td>IL</td><td>622xx</td><td>USA</td><td>C</td><td>C4</td><td>Verified</td><td>48000.0</td><td>Individual</td><td>null</td><td>null</td><td>2023-12-31 00:47:...</td></tr>\n",
       "<tr><td>b9b636c972b9067bd...</td><td>QA Engineer</td><td>5</td><td>MORTGAGE</td><td>86000.0</td><td>TX</td><td>750xx</td><td>USA</td><td>B</td><td>B5</td><td>Not Verified</td><td>359396.0</td><td>Individual</td><td>null</td><td>null</td><td>2023-12-31 00:47:...</td></tr>\n",
       "<tr><td>a4d6a1fd86af72435...</td><td>night manger</td><td>5</td><td>OWN</td><td>43000.0</td><td>TN</td><td>370xx</td><td>USA</td><td>A</td><td>A3</td><td>Not Verified</td><td>94260.0</td><td>Individual</td><td>null</td><td>null</td><td>2023-12-31 00:47:...</td></tr>\n",
       "<tr><td>87404ee54b8fed86a...</td><td>manager</td><td>2</td><td>RENT</td><td>45600.0</td><td>NV</td><td>891xx</td><td>USA</td><td>D</td><td>D1</td><td>Source Verified</td><td>52817.0</td><td>Individual</td><td>null</td><td>null</td><td>2023-12-31 00:47:...</td></tr>\n",
       "<tr><td>ca0bad11080d19e35...</td><td>AVP/EDD Manager</td><td>3</td><td>RENT</td><td>78000.0</td><td>UT</td><td>840xx</td><td>USA</td><td>C</td><td>C5</td><td>Source Verified</td><td>75200.0</td><td>Individual</td><td>null</td><td>null</td><td>2023-12-31 00:47:...</td></tr>\n",
       "<tr><td>4125d1f111d2aff4f...</td><td>Assistant Manager</td><td>8</td><td>RENT</td><td>69000.0</td><td>MA</td><td>021xx</td><td>USA</td><td>A</td><td>A5</td><td>Source Verified</td><td>18500.0</td><td>Individual</td><td>null</td><td>null</td><td>2023-12-31 00:47:...</td></tr>\n",
       "<tr><td>0af3668211798015f...</td><td>claims representa...</td><td>10</td><td>OWN</td><td>68000.0</td><td>SC</td><td>294xx</td><td>USA</td><td>D</td><td>D2</td><td>Not Verified</td><td>95794.0</td><td>Individual</td><td>null</td><td>null</td><td>2023-12-31 00:47:...</td></tr>\n",
       "<tr><td>3bbbc691a3ff70869...</td><td>Utility worker 2</td><td>10</td><td>RENT</td><td>60000.0</td><td>CA</td><td>921xx</td><td>USA</td><td>C</td><td>C5</td><td>Source Verified</td><td>19465.0</td><td>Individual</td><td>null</td><td>null</td><td>2023-12-31 00:47:...</td></tr>\n",
       "<tr><td>978a82283790174f3...</td><td>inspector/automotive</td><td>4</td><td>MORTGAGE</td><td>52000.0</td><td>MI</td><td>481xx</td><td>USA</td><td>B</td><td>B2</td><td>Verified</td><td>42178.0</td><td>Individual</td><td>null</td><td>null</td><td>2023-12-31 00:47:...</td></tr>\n",
       "<tr><td>9715537f8dc7a4b01...</td><td>Office Manager</td><td>3</td><td>MORTGAGE</td><td>80000.0</td><td>GA</td><td>300xx</td><td>USA</td><td>C</td><td>C2</td><td>Source Verified</td><td>327378.0</td><td>Individual</td><td>null</td><td>null</td><td>2023-12-31 00:47:...</td></tr>\n",
       "<tr><td>d424c4c7ce6aa02ec...</td><td>Tax Assistant</td><td>10</td><td>OWN</td><td>38500.0</td><td>TN</td><td>371xx</td><td>USA</td><td>D</td><td>D3</td><td>Verified</td><td>216652.0</td><td>Individual</td><td>null</td><td>null</td><td>2023-12-31 00:47:...</td></tr>\n",
       "<tr><td>f36988e6e34ad1aa5...</td><td>Customer service ...</td><td>10</td><td>MORTGAGE</td><td>59000.0</td><td>NE</td><td>680xx</td><td>USA</td><td>B</td><td>B1</td><td>Source Verified</td><td>227085.0</td><td>Individual</td><td>null</td><td>null</td><td>2023-12-31 00:47:...</td></tr>\n",
       "<tr><td>2e4a842d4dd4981d4...</td><td>Veterinarian</td><td>4</td><td>MORTGAGE</td><td>101800.0</td><td>ME</td><td>042xx</td><td>USA</td><td>C</td><td>C2</td><td>Verified</td><td>449460.0</td><td>Individual</td><td>null</td><td>null</td><td>2023-12-31 00:47:...</td></tr>\n",
       "<tr><td>93247f4bf3b56ca32...</td><td>Medical Vice Pres...</td><td>2</td><td>MORTGAGE</td><td>600000.0</td><td>IL</td><td>610xx</td><td>USA</td><td>C</td><td>C1</td><td>Source Verified</td><td>868960.0</td><td>Individual</td><td>null</td><td>null</td><td>2023-12-31 00:47:...</td></tr>\n",
       "<tr><td>434cdd013da14b328...</td><td>Teacher</td><td>4</td><td>RENT</td><td>60000.0</td><td>TX</td><td>775xx</td><td>USA</td><td>C</td><td>C2</td><td>Verified</td><td>234657.0</td><td>Individual</td><td>null</td><td>null</td><td>2023-12-31 00:47:...</td></tr>\n",
       "<tr><td>f058599412059d117...</td><td>null</td><td>null</td><td>RENT</td><td>36000.0</td><td>MI</td><td>480xx</td><td>USA</td><td>C</td><td>C3</td><td>Verified</td><td>19657.0</td><td>Individual</td><td>null</td><td>null</td><td>2023-12-31 00:47:...</td></tr>\n",
       "</table>\n",
       "only showing top 20 rows\n"
      ],
      "text/plain": [
       "+--------------------+--------------------+----------+--------------+-------------+-------------+---------------+---------------+-----+---------+-------------------+---------------+----------------+------------------+-------------------------+--------------------+\n",
       "|           member_id|           emp_title|emp_length|home_ownership|annual_income|address_state|address_zipcode|address_country|grade|sub_grade|verification_status|tot_hi_cred_lim|application_type|join_annual_income|verification_status_joint|         ingest_date|\n",
       "+--------------------+--------------------+----------+--------------+-------------+-------------+---------------+---------------+-----+---------+-------------------+---------------+----------------+------------------+-------------------------+--------------------+\n",
       "|4a1b81ef5c7c3e70a...|Electronics Engineer|        10|      MORTGAGE|     101866.0|           PA|          186xx|            USA|    E|       E2|           Verified|       451795.0|      Individual|              null|                     null|2023-12-31 00:47:...|\n",
       "|9a1b5e000558a5db5...|             Teacher|         5|          RENT|      50000.0|           CA|          900xx|            USA|    D|       D4|           Verified|        90526.0|      Individual|              null|                     null|2023-12-31 00:47:...|\n",
       "|5cfaa6a440bafa12e...|         Maintanence|         1|      MORTGAGE|      41000.0|           OH|          440xx|            USA|    D|       D4|           Verified|       155784.0|      Individual|              null|                     null|2023-12-31 00:47:...|\n",
       "|14ae1aadb54d7198c...|      Police Officer|        10|      MORTGAGE|      52000.0|           VA|          238xx|            USA|    C|       C3|           Verified|        37600.0|      Individual|              null|                     null|2023-12-31 00:47:...|\n",
       "|2cfc3f4172e09f238...|       Adminstration|        10|          RENT|      50000.0|           MA|          027xx|            USA|    D|       D1|           Verified|        38342.0|      Individual|              null|                     null|2023-12-31 00:47:...|\n",
       "|b6dbb9a57c542ba1c...|    Project Designer|         1|          RENT|      59000.0|           TX|          752xx|            USA|    B|       B1|       Not Verified|        69176.0|      Individual|              null|                     null|2023-12-31 00:47:...|\n",
       "|055891d3666c00cbf...|Occupational Ther...|         3|      MORTGAGE|     150000.0|           TX|          755xx|            USA|    A|       A3|           Verified|       307493.0|      Individual|              null|                     null|2023-12-31 00:47:...|\n",
       "|9fdb488aeb6ea9f59...|GOA/Business Offi...|         3|      MORTGAGE|      41238.0|           MI|          495xx|            USA|    B|       B5|           Verified|       184858.0|      Individual|              null|                     null|2023-12-31 00:47:...|\n",
       "|e9e858c10a6631b76...|    DISTRICT MANAGER|        10|      MORTGAGE|     225000.0|           TX|          762xx|            USA|    B|       B5|           Verified|       614973.0|      Individual|              null|                     null|2023-12-31 00:47:...|\n",
       "|a63196ec1746a259d...|Nursing Unit Supe...|        10|      MORTGAGE|      70000.0|           NC|          288xx|            USA|    D|       D1|           Verified|       184921.0|      Individual|              null|                     null|2023-12-31 00:47:...|\n",
       "|d4b272f3326739594...|                null|      null|      MORTGAGE|      80000.0|           VA|          233xx|            USA|    C|       C2|    Source Verified|       452162.0|      Individual|              null|                     null|2023-12-31 00:47:...|\n",
       "|4662f9f1dece068f2...|          Technician|         6|      MORTGAGE|      47000.0|           WI|          531xx|            USA|    E|       E3|    Source Verified|       180327.0|      Individual|              null|                     null|2023-12-31 00:47:...|\n",
       "|7212b20374047d89f...|           associate|         1|          RENT|      35000.0|           NH|          038xx|            USA|    C|       C3|    Source Verified|         3700.0|      Individual|              null|                     null|2023-12-31 00:47:...|\n",
       "|dd6833d398a0082d1...|             Manager|        10|          RENT|      60000.0|           CA|          925xx|            USA|    D|       D4|       Not Verified|        52957.0|      Individual|              null|                     null|2023-12-31 00:47:...|\n",
       "|bfbcee2781679f597...|       HVAC Mechanic|        10|      MORTGAGE|      65000.0|           MI|          480xx|            USA|    C|       C5|           Verified|       140953.0|      Individual|              null|                     null|2023-12-31 00:47:...|\n",
       "|66f0e6752006971c9...|                null|        10|      MORTGAGE|      85000.0|           MN|          553xx|            USA|    E|       E1|    Source Verified|       210800.0|      Individual|              null|                     null|2023-12-31 00:47:...|\n",
       "|50b798648340f977c...|  Premise Technician|         3|      MORTGAGE|      48000.0|           IN|          461xx|            USA|    C|       C3|    Source Verified|       152163.0|      Individual|              null|                     null|2023-12-31 00:47:...|\n",
       "|7893355d56d510ba9...|Sales Representative|         3|           OWN|      40000.0|           TX|          770xx|            USA|    C|       C4|           Verified|       143994.0|      Individual|              null|                     null|2023-12-31 00:47:...|\n",
       "|71acdc6eb1df48438...|Mortgage loan off...|         7|      MORTGAGE|      70000.0|           WA|          980xx|            USA|    C|       C4|           Verified|        53609.0|      Individual|              null|                     null|2023-12-31 00:47:...|\n",
       "|26ba47955bcfe3b70...|               sales|         3|          RENT|      79000.0|           SC|          295xx|            USA|    B|       B4|       Not Verified|        94865.0|      Individual|              null|                     null|2023-12-31 00:47:...|\n",
       "+--------------------+--------------------+----------+--------------+-------------+-------------+---------------+---------------+-----+---------+-------------------+---------------+----------------+------------------+-------------------------+--------------------+\n",
       "only showing top 20 rows"
      ]
     },
     "execution_count": 45,
     "metadata": {},
     "output_type": "execute_result"
    }
   ],
   "source": [
    "customers_emplength_cleaned"
   ]
  },
  {
   "cell_type": "code",
   "execution_count": 46,
   "id": "003b7723",
   "metadata": {},
   "outputs": [],
   "source": [
    "from pyspark.sql import SparkSession\n",
    "import getpass \n",
    "username=getpass.getuser()\n",
    "spark=SparkSession. \\\n",
    "    builder. \\\n",
    "    config('spark.ui.port','0'). \\\n",
    "    config(\"spark.sql.warehouse.dir\", f\"/user/{username}/warehouse\"). \\\n",
    "    config('spark.shuffle.useOldFetchProtocol', 'true'). \\\n",
    "    enableHiveSupport(). \\\n",
    "    master('yarn'). \\\n",
    "    getOrCreate()"
   ]
  },
  {
   "cell_type": "code",
   "execution_count": 47,
   "id": "6fefd68b",
   "metadata": {},
   "outputs": [
    {
     "data": {
      "text/html": [
       "<table border='1'>\n",
       "<tr><th>member_id</th><th>emp_title</th><th>emp_length</th><th>home_ownership</th><th>annual_income</th><th>address_state</th><th>address_zipcode</th><th>address_country</th><th>grade</th><th>sub_grade</th><th>verification_status</th><th>tot_hi_cred_lim</th><th>application_type</th><th>join_annual_income</th><th>verification_status_joint</th><th>ingest_date</th></tr>\n",
       "<tr><td>07919a66fb19526a5...</td><td>Infantryman</td><td>8</td><td>RENT</td><td>25000.0</td><td>FL</td><td>328xx</td><td>USA</td><td>C</td><td>C3</td><td>Not Verified</td><td>7000.0</td><td>Individual</td><td>null</td><td>null</td><td>2023-12-31 00:47:...</td></tr>\n",
       "<tr><td>774d7c5c678dc90a0...</td><td>Borrower Services...</td><td>1</td><td>RENT</td><td>27000.0</td><td>WI</td><td>544xx</td><td>USA</td><td>D</td><td>D1</td><td>Not Verified</td><td>121804.0</td><td>Individual</td><td>null</td><td>null</td><td>2023-12-31 00:47:...</td></tr>\n",
       "<tr><td>3049004a52aa8051f...</td><td>Executive</td><td>10</td><td>MORTGAGE</td><td>85000.0</td><td>IL</td><td>625xx</td><td>USA</td><td>B</td><td>B5</td><td>Source Verified</td><td>197340.0</td><td>Individual</td><td>null</td><td>null</td><td>2023-12-31 00:47:...</td></tr>\n",
       "<tr><td>446d4fd8e01e48f62...</td><td>Owner, Broker</td><td>1</td><td>RENT</td><td>65385.0</td><td>NC</td><td>276xx</td><td>USA</td><td>D</td><td>D4</td><td>Source Verified</td><td>50249.0</td><td>Individual</td><td>null</td><td>null</td><td>2023-12-31 00:47:...</td></tr>\n",
       "<tr><td>1e780774010b509f6...</td><td>Installer</td><td>6</td><td>RENT</td><td>30000.0</td><td>OR</td><td>972xx</td><td>USA</td><td>B</td><td>B4</td><td>Source Verified</td><td>12850.0</td><td>Individual</td><td>null</td><td>null</td><td>2023-12-31 00:47:...</td></tr>\n",
       "<tr><td>037b490c131c26b6a...</td><td>Tech</td><td>2</td><td>MORTGAGE</td><td>60000.0</td><td>NY</td><td>133xx</td><td>USA</td><td>F</td><td>F5</td><td>Not Verified</td><td>106937.0</td><td>Individual</td><td>null</td><td>null</td><td>2023-12-31 00:47:...</td></tr>\n",
       "<tr><td>20bc0d74f204028af...</td><td>Teacher</td><td>2</td><td>OWN</td><td>41500.0</td><td>SD</td><td>577xx</td><td>USA</td><td>E</td><td>E1</td><td>Not Verified</td><td>104216.0</td><td>Individual</td><td>null</td><td>null</td><td>2023-12-31 00:47:...</td></tr>\n",
       "<tr><td>40a68bebc76469d0f...</td><td>NCOIC,A2 Executiv...</td><td>10</td><td>RENT</td><td>69000.0</td><td>VA</td><td>221xx</td><td>USA</td><td>F</td><td>F2</td><td>Not Verified</td><td>255455.0</td><td>Individual</td><td>null</td><td>null</td><td>2023-12-31 00:47:...</td></tr>\n",
       "<tr><td>3786f670168c9fc25...</td><td>Training Store Ma...</td><td>3</td><td>MORTGAGE</td><td>65632.06</td><td>WA</td><td>986xx</td><td>USA</td><td>C</td><td>C1</td><td>Source Verified</td><td>70355.0</td><td>Individual</td><td>null</td><td>null</td><td>2023-12-31 00:47:...</td></tr>\n",
       "<tr><td>e57b56b9dd317a52a...</td><td>Program Assistant</td><td>10</td><td>MORTGAGE</td><td>60000.0</td><td>CA</td><td>930xx</td><td>USA</td><td>D</td><td>D2</td><td>Source Verified</td><td>67045.0</td><td>Individual</td><td>null</td><td>null</td><td>2023-12-31 00:47:...</td></tr>\n",
       "<tr><td>5004404a1937ee168...</td><td>Sales Executive</td><td>1</td><td>RENT</td><td>80000.0</td><td>NY</td><td>112xx</td><td>USA</td><td>A</td><td>A5</td><td>Not Verified</td><td>19750.0</td><td>Individual</td><td>null</td><td>null</td><td>2023-12-31 00:47:...</td></tr>\n",
       "<tr><td>354d64cc4be51d0d9...</td><td>AUDITOR/DEPUTY</td><td>1</td><td>RENT</td><td>30513.0</td><td>SD</td><td>574xx</td><td>USA</td><td>B</td><td>B3</td><td>Not Verified</td><td>122530.0</td><td>Individual</td><td>null</td><td>null</td><td>2023-12-31 00:47:...</td></tr>\n",
       "<tr><td>cd4502b5e11aacf6d...</td><td>Clinical Therapist</td><td>2</td><td>RENT</td><td>80000.0</td><td>CA</td><td>925xx</td><td>USA</td><td>C</td><td>C2</td><td>Source Verified</td><td>212081.0</td><td>Individual</td><td>null</td><td>null</td><td>2023-12-31 00:47:...</td></tr>\n",
       "<tr><td>dcacf6b5ab6af04c9...</td><td>Director, Biomedi...</td><td>10</td><td>MORTGAGE</td><td>125000.0</td><td>AZ</td><td>852xx</td><td>USA</td><td>C</td><td>C3</td><td>Source Verified</td><td>88011.0</td><td>Individual</td><td>null</td><td>null</td><td>2023-12-31 00:47:...</td></tr>\n",
       "<tr><td>cd80a9e7afac89d7f...</td><td>Registered Dental...</td><td>6</td><td>MORTGAGE</td><td>69000.0</td><td>TX</td><td>773xx</td><td>USA</td><td>A</td><td>A1</td><td>Source Verified</td><td>428587.0</td><td>Individual</td><td>null</td><td>null</td><td>2023-12-31 00:47:...</td></tr>\n",
       "<tr><td>c988c023eafb806f0...</td><td>Classified Sales ...</td><td>10</td><td>RENT</td><td>104000.0</td><td>MA</td><td>026xx</td><td>USA</td><td>D</td><td>D1</td><td>Source Verified</td><td>62572.0</td><td>Individual</td><td>null</td><td>null</td><td>2023-12-31 00:47:...</td></tr>\n",
       "<tr><td>0de9b69746c0cb48b...</td><td>LPN</td><td>1</td><td>OWN</td><td>40000.0</td><td>CO</td><td>800xx</td><td>USA</td><td>C</td><td>C4</td><td>Source Verified</td><td>223540.0</td><td>Individual</td><td>null</td><td>null</td><td>2023-12-31 00:47:...</td></tr>\n",
       "<tr><td>0c6f4816c23b66769...</td><td>Special Education...</td><td>2</td><td>MORTGAGE</td><td>75000.0</td><td>CA</td><td>953xx</td><td>USA</td><td>E</td><td>E2</td><td>Not Verified</td><td>432290.0</td><td>Individual</td><td>null</td><td>null</td><td>2023-12-31 00:47:...</td></tr>\n",
       "<tr><td>8580bedcdc0a67bb8...</td><td>Manager</td><td>5</td><td>MORTGAGE</td><td>130000.0</td><td>NY</td><td>115xx</td><td>USA</td><td>A</td><td>A4</td><td>Verified</td><td>647250.0</td><td>Individual</td><td>null</td><td>null</td><td>2023-12-31 00:47:...</td></tr>\n",
       "<tr><td>8d73a520da76b6889...</td><td>Paralegal</td><td>10</td><td>MORTGAGE</td><td>95000.0</td><td>FL</td><td>329xx</td><td>USA</td><td>A</td><td>A4</td><td>Not Verified</td><td>336060.0</td><td>Individual</td><td>null</td><td>null</td><td>2023-12-31 00:47:...</td></tr>\n",
       "</table>\n",
       "only showing top 20 rows\n"
      ],
      "text/plain": [
       "DataFrame[member_id: string, emp_title: string, emp_length: string, home_ownership: string, annual_income: float, address_state: string, address_zipcode: string, address_country: string, grade: string, sub_grade: string, verification_status: string, tot_hi_cred_lim: float, application_type: string, join_annual_income: float, verification_status_joint: string, ingest_date: timestamp]"
      ]
     },
     "execution_count": 47,
     "metadata": {},
     "output_type": "execute_result"
    }
   ],
   "source": [
    "customers_emplength_cleaned"
   ]
  },
  {
   "cell_type": "code",
   "execution_count": 48,
   "id": "c5e55bd6",
   "metadata": {},
   "outputs": [
    {
     "name": "stdout",
     "output_type": "stream",
     "text": [
      "root\n",
      " |-- member_id: string (nullable = true)\n",
      " |-- emp_title: string (nullable = true)\n",
      " |-- emp_length: string (nullable = true)\n",
      " |-- home_ownership: string (nullable = true)\n",
      " |-- annual_income: float (nullable = true)\n",
      " |-- address_state: string (nullable = true)\n",
      " |-- address_zipcode: string (nullable = true)\n",
      " |-- address_country: string (nullable = true)\n",
      " |-- grade: string (nullable = true)\n",
      " |-- sub_grade: string (nullable = true)\n",
      " |-- verification_status: string (nullable = true)\n",
      " |-- tot_hi_cred_lim: float (nullable = true)\n",
      " |-- application_type: string (nullable = true)\n",
      " |-- join_annual_income: float (nullable = true)\n",
      " |-- verification_status_joint: string (nullable = true)\n",
      " |-- ingest_date: timestamp (nullable = false)\n",
      "\n"
     ]
    }
   ],
   "source": [
    "customers_emplength_cleaned.printSchema()"
   ]
  },
  {
   "cell_type": "code",
   "execution_count": 50,
   "id": "a89e2f75",
   "metadata": {},
   "outputs": [],
   "source": [
    "customers_emplength_casted = customers_emplength_cleaned.withColumn(\"emp_length\", customers_emplength_cleaned.emp_length.cast('integer'))"
   ]
  },
  {
   "cell_type": "code",
   "execution_count": 51,
   "id": "f542381b",
   "metadata": {},
   "outputs": [
    {
     "data": {
      "text/html": [
       "<table border='1'>\n",
       "<tr><th>member_id</th><th>emp_title</th><th>emp_length</th><th>home_ownership</th><th>annual_income</th><th>address_state</th><th>address_zipcode</th><th>address_country</th><th>grade</th><th>sub_grade</th><th>verification_status</th><th>tot_hi_cred_lim</th><th>application_type</th><th>join_annual_income</th><th>verification_status_joint</th><th>ingest_date</th></tr>\n",
       "<tr><td>81096406c34046abb...</td><td>CSR Supervisor</td><td>10</td><td>MORTGAGE</td><td>25600.0</td><td>OH</td><td>457xx</td><td>USA</td><td>D</td><td>D2</td><td>Source Verified</td><td>76451.0</td><td>Individual</td><td>null</td><td>null</td><td>2023-12-31 00:47:...</td></tr>\n",
       "<tr><td>e72695f14a5e29a1b...</td><td>Food and Beverage...</td><td>2</td><td>MORTGAGE</td><td>50000.0</td><td>TX</td><td>765xx</td><td>USA</td><td>A</td><td>A2</td><td>Not Verified</td><td>148775.0</td><td>Individual</td><td>null</td><td>null</td><td>2023-12-31 00:47:...</td></tr>\n",
       "<tr><td>ebec3cc63af0b4fab...</td><td>Rehabilitation Th...</td><td>10</td><td>RENT</td><td>77556.0</td><td>CA</td><td>932xx</td><td>USA</td><td>C</td><td>C1</td><td>Source Verified</td><td>84315.0</td><td>Individual</td><td>null</td><td>null</td><td>2023-12-31 00:47:...</td></tr>\n",
       "<tr><td>14cb1f4e485b9bb62...</td><td>Technical Editor</td><td>1</td><td>RENT</td><td>95000.0</td><td>VA</td><td>220xx</td><td>USA</td><td>A</td><td>A5</td><td>Source Verified</td><td>65895.0</td><td>Individual</td><td>null</td><td>null</td><td>2023-12-31 00:47:...</td></tr>\n",
       "<tr><td>fe6eaf055aed9a37f...</td><td>Business Analyst</td><td>5</td><td>MORTGAGE</td><td>102000.0</td><td>GA</td><td>317xx</td><td>USA</td><td>B</td><td>B3</td><td>Verified</td><td>423223.0</td><td>Individual</td><td>null</td><td>null</td><td>2023-12-31 00:47:...</td></tr>\n",
       "<tr><td>400031c5ce066fa59...</td><td>Medical Device In...</td><td>4</td><td>RENT</td><td>75000.0</td><td>TX</td><td>770xx</td><td>USA</td><td>A</td><td>A3</td><td>Not Verified</td><td>250081.0</td><td>Individual</td><td>null</td><td>null</td><td>2023-12-31 00:47:...</td></tr>\n",
       "<tr><td>6ae4e8126464f127c...</td><td>Agent</td><td>10</td><td>MORTGAGE</td><td>90000.0</td><td>FL</td><td>349xx</td><td>USA</td><td>A</td><td>A2</td><td>Source Verified</td><td>215494.0</td><td>Individual</td><td>null</td><td>null</td><td>2023-12-31 00:47:...</td></tr>\n",
       "<tr><td>7bdf28e0a83588faf...</td><td>Sr. Project Manager</td><td>7</td><td>RENT</td><td>200000.0</td><td>CA</td><td>926xx</td><td>USA</td><td>D</td><td>D4</td><td>Source Verified</td><td>243634.0</td><td>Individual</td><td>null</td><td>null</td><td>2023-12-31 00:47:...</td></tr>\n",
       "<tr><td>4de7aec3c24960c15...</td><td>sales manager</td><td>10</td><td>MORTGAGE</td><td>62000.0</td><td>TX</td><td>797xx</td><td>USA</td><td>B</td><td>B5</td><td>Not Verified</td><td>208982.0</td><td>Individual</td><td>null</td><td>null</td><td>2023-12-31 00:47:...</td></tr>\n",
       "<tr><td>0c3938378a6db8da4...</td><td>Associate Client ...</td><td>1</td><td>RENT</td><td>50000.0</td><td>WA</td><td>980xx</td><td>USA</td><td>B</td><td>B1</td><td>Not Verified</td><td>51535.0</td><td>Individual</td><td>null</td><td>null</td><td>2023-12-31 00:47:...</td></tr>\n",
       "<tr><td>c7b4eefe0a4ed5fe3...</td><td>Ditect support pr...</td><td>4</td><td>RENT</td><td>65000.0</td><td>MD</td><td>207xx</td><td>USA</td><td>A</td><td>A4</td><td>Not Verified</td><td>50700.0</td><td>Individual</td><td>null</td><td>null</td><td>2023-12-31 00:47:...</td></tr>\n",
       "<tr><td>c251ed901736a58b1...</td><td>Phlebotomy</td><td>3</td><td>RENT</td><td>18000.0</td><td>AZ</td><td>850xx</td><td>USA</td><td>C</td><td>C3</td><td>Verified</td><td>58071.0</td><td>Individual</td><td>null</td><td>null</td><td>2023-12-31 00:47:...</td></tr>\n",
       "<tr><td>271570f604d11145d...</td><td>Office Manager</td><td>8</td><td>RENT</td><td>42000.0</td><td>TX</td><td>752xx</td><td>USA</td><td>D</td><td>D1</td><td>Source Verified</td><td>57006.0</td><td>Individual</td><td>null</td><td>null</td><td>2023-12-31 00:47:...</td></tr>\n",
       "<tr><td>3bffbc6094e76423e...</td><td>Dealer Account Ma...</td><td>3</td><td>MORTGAGE</td><td>145000.0</td><td>FL</td><td>334xx</td><td>USA</td><td>C</td><td>C1</td><td>Verified</td><td>141256.0</td><td>Individual</td><td>null</td><td>null</td><td>2023-12-31 00:47:...</td></tr>\n",
       "<tr><td>190be4fa826f979bb...</td><td>Technician</td><td>10</td><td>OWN</td><td>65000.0</td><td>GA</td><td>301xx</td><td>USA</td><td>E</td><td>E1</td><td>Source Verified</td><td>76819.0</td><td>Individual</td><td>null</td><td>null</td><td>2023-12-31 00:47:...</td></tr>\n",
       "<tr><td>ce21a201ede8cd377...</td><td>Manager</td><td>9</td><td>MORTGAGE</td><td>56000.0</td><td>MD</td><td>211xx</td><td>USA</td><td>C</td><td>C5</td><td>Source Verified</td><td>149900.0</td><td>Individual</td><td>null</td><td>null</td><td>2023-12-31 00:47:...</td></tr>\n",
       "<tr><td>c5c939b1927586292...</td><td>Regional Private ...</td><td>1</td><td>MORTGAGE</td><td>68500.0</td><td>NJ</td><td>083xx</td><td>USA</td><td>C</td><td>C4</td><td>Verified</td><td>232377.0</td><td>Individual</td><td>null</td><td>null</td><td>2023-12-31 00:47:...</td></tr>\n",
       "<tr><td>e64621dc7c0d364d5...</td><td>head instructor</td><td>2</td><td>RENT</td><td>45000.0</td><td>CA</td><td>900xx</td><td>USA</td><td>C</td><td>C1</td><td>Source Verified</td><td>59382.0</td><td>Individual</td><td>null</td><td>null</td><td>2023-12-31 00:47:...</td></tr>\n",
       "<tr><td>c38e24bf6c717ab98...</td><td>Work Director II</td><td>10</td><td>RENT</td><td>41600.0</td><td>UT</td><td>840xx</td><td>USA</td><td>E</td><td>E5</td><td>Source Verified</td><td>61068.0</td><td>Individual</td><td>null</td><td>null</td><td>2023-12-31 00:47:...</td></tr>\n",
       "<tr><td>e70eb52689036fd10...</td><td>Driver</td><td>10</td><td>MORTGAGE</td><td>75000.0</td><td>CA</td><td>917xx</td><td>USA</td><td>D</td><td>D2</td><td>Source Verified</td><td>285000.0</td><td>Individual</td><td>null</td><td>null</td><td>2023-12-31 00:47:...</td></tr>\n",
       "</table>\n",
       "only showing top 20 rows\n"
      ],
      "text/plain": [
       "+--------------------+--------------------+----------+--------------+-------------+-------------+---------------+---------------+-----+---------+-------------------+---------------+----------------+------------------+-------------------------+--------------------+\n",
       "|           member_id|           emp_title|emp_length|home_ownership|annual_income|address_state|address_zipcode|address_country|grade|sub_grade|verification_status|tot_hi_cred_lim|application_type|join_annual_income|verification_status_joint|         ingest_date|\n",
       "+--------------------+--------------------+----------+--------------+-------------+-------------+---------------+---------------+-----+---------+-------------------+---------------+----------------+------------------+-------------------------+--------------------+\n",
       "|ee5742cf809ec6b19...|        VP Marketing|         8|      MORTGAGE|     120000.0|           AR|          721xx|            USA|    A|       A4|    Source Verified|       271678.0|      Individual|              null|                     null|2023-12-31 00:47:...|\n",
       "|8a289aff1251bb8b4...|                null|      null|      MORTGAGE|      15300.0|           WI|          548xx|            USA|    B|       B4|           Verified|         6000.0|      Individual|              null|                     null|2023-12-31 00:47:...|\n",
       "|60908273fc5eb6a28...|        truck driver|        10|           OWN|      67000.0|           TX|          760xx|            USA|    B|       B1|       Not Verified|       209937.0|      Individual|              null|                     null|2023-12-31 00:47:...|\n",
       "|74285a24c29861284...|      Letter Carrier|        10|           OWN|      95000.0|           LA|          706xx|            USA|    A|       A5|    Source Verified|        46876.0|      Individual|              null|                     null|2023-12-31 00:47:...|\n",
       "|12b33d6c3a6dd861e...|office administrator|        10|      MORTGAGE|      50000.0|           MT|          591xx|            USA|    B|       B3|       Not Verified|       184075.0|      Individual|              null|                     null|2023-12-31 00:47:...|\n",
       "|ab8291f1c6f9d960b...|Social service co...|        10|          RENT|      62000.0|           LA|          713xx|            USA|    A|       A2|       Not Verified|        35558.0|      Individual|              null|                     null|2023-12-31 00:47:...|\n",
       "|c6fb18e547cd5a557...|       Hair colorist|         4|          RENT|      40000.0|           FL|          334xx|            USA|    B|       B1|       Not Verified|        33900.0|      Individual|              null|                     null|2023-12-31 00:47:...|\n",
       "|63de71e919bdbd59c...|            Director|         4|      MORTGAGE|     225000.0|           TX|          773xx|            USA|    B|       B3|           Verified|       635697.0|      Individual|              null|                     null|2023-12-31 00:47:...|\n",
       "|806efe1eeee940332...|     Auto Technician|         5|           OWN|      30000.0|           WI|          532xx|            USA|    A|       A3|    Source Verified|        80168.0|       Joint App|           70000.0|             Not Verified|2023-12-31 00:47:...|\n",
       "|45a6b5ffe69cb6b23...|Insurance Investi...|        10|      MORTGAGE|      60795.0|           FL|          335xx|            USA|    C|       C5|    Source Verified|       273676.0|      Individual|              null|                     null|2023-12-31 00:47:...|\n",
       "|533b02c691cb34dc4...|Vice President fo...|         5|      MORTGAGE|     180000.0|           NY|          125xx|            USA|    C|       C3|           Verified|       234550.0|      Individual|              null|                     null|2023-12-31 00:47:...|\n",
       "|7306644e9c2c5a372...|Vice President of...|        10|      MORTGAGE|     150000.0|           TX|          773xx|            USA|    B|       B3|    Source Verified|        82822.0|      Individual|              null|                     null|2023-12-31 00:47:...|\n",
       "|3da1f6a6f825fc814...|GS-15 Management ...|         8|      MORTGAGE|     183905.0|           VA|          222xx|            USA|    B|       B4|       Not Verified|       486915.0|      Individual|              null|                     null|2023-12-31 00:47:...|\n",
       "|eb57c97380ae20928...|    Policy Analyst 3|        10|      MORTGAGE|      84000.0|           OR|          973xx|            USA|    C|       C1|       Not Verified|       234936.0|      Individual|              null|                     null|2023-12-31 00:47:...|\n",
       "|d2527e5e65b8ed468...|flodergluer OPERATOR|        10|           OWN|      40000.0|           MO|          641xx|            USA|    C|       C5|    Source Verified|        21099.0|      Individual|              null|                     null|2023-12-31 00:47:...|\n",
       "|64f1008d512592301...|Catalog Administr...|        10|      MORTGAGE|      88000.0|           AZ|          855xx|            USA|    A|       A5|    Source Verified|        85729.0|      Individual|              null|                     null|2023-12-31 00:47:...|\n",
       "|742396e9cf7b5201f...|          Caregivers|        10|      MORTGAGE|      79000.0|           CA|          940xx|            USA|    A|       A4|       Not Verified|       488823.0|      Individual|              null|                     null|2023-12-31 00:47:...|\n",
       "|5515caca1d20a635d...|                null|      null|          RENT|      73000.0|           TX|          770xx|            USA|    D|       D4|           Verified|        80071.0|      Individual|              null|                     null|2023-12-31 00:47:...|\n",
       "|b9ebb06c1d2072a8b...|Superintendent De...|         2|      MORTGAGE|     115000.0|           NJ|          070xx|            USA|    B|       B4|       Not Verified|        44923.0|       Joint App|          172640.0|             Not Verified|2023-12-31 00:47:...|\n",
       "|f906fe6cec1105f02...|          inspection|        10|      MORTGAGE|      85000.0|           AZ|          853xx|            USA|    B|       B1|       Not Verified|       300499.0|      Individual|              null|                     null|2023-12-31 00:47:...|\n",
       "+--------------------+--------------------+----------+--------------+-------------+-------------+---------------+---------------+-----+---------+-------------------+---------------+----------------+------------------+-------------------------+--------------------+\n",
       "only showing top 20 rows"
      ]
     },
     "execution_count": 51,
     "metadata": {},
     "output_type": "execute_result"
    }
   ],
   "source": [
    "customers_emplength_casted"
   ]
  },
  {
   "cell_type": "code",
   "execution_count": 52,
   "id": "ab319667",
   "metadata": {},
   "outputs": [
    {
     "name": "stdout",
     "output_type": "stream",
     "text": [
      "root\n",
      " |-- member_id: string (nullable = true)\n",
      " |-- emp_title: string (nullable = true)\n",
      " |-- emp_length: integer (nullable = true)\n",
      " |-- home_ownership: string (nullable = true)\n",
      " |-- annual_income: float (nullable = true)\n",
      " |-- address_state: string (nullable = true)\n",
      " |-- address_zipcode: string (nullable = true)\n",
      " |-- address_country: string (nullable = true)\n",
      " |-- grade: string (nullable = true)\n",
      " |-- sub_grade: string (nullable = true)\n",
      " |-- verification_status: string (nullable = true)\n",
      " |-- tot_hi_cred_lim: float (nullable = true)\n",
      " |-- application_type: string (nullable = true)\n",
      " |-- join_annual_income: float (nullable = true)\n",
      " |-- verification_status_joint: string (nullable = true)\n",
      " |-- ingest_date: timestamp (nullable = false)\n",
      "\n"
     ]
    }
   ],
   "source": [
    "customers_emplength_casted.printSchema()"
   ]
  },
  {
   "cell_type": "markdown",
   "id": "cf3c90fb",
   "metadata": {},
   "source": [
    "#### 7. we need to replace all the nulls in emp_length column with average of this column"
   ]
  },
  {
   "cell_type": "code",
   "execution_count": 53,
   "id": "5ba1163c",
   "metadata": {},
   "outputs": [
    {
     "data": {
      "text/plain": [
       "146903"
      ]
     },
     "execution_count": 53,
     "metadata": {},
     "output_type": "execute_result"
    }
   ],
   "source": [
    "customers_emplength_casted.filter(\"emp_length is null\").count()"
   ]
  },
  {
   "cell_type": "code",
   "execution_count": 54,
   "id": "6ad90709",
   "metadata": {},
   "outputs": [],
   "source": [
    "customers_emplength_casted.createOrReplaceTempView(\"customers\")"
   ]
  },
  {
   "cell_type": "code",
   "execution_count": null,
   "id": "38ebd25b",
   "metadata": {},
   "outputs": [],
   "source": [
    "avg_emp_length = spark.sql(\"select floor(avg(emp_length)) as avg_emp_length from customers\").collect()"
   ]
  },
  {
   "cell_type": "code",
   "execution_count": null,
   "id": "972a5090",
   "metadata": {},
   "outputs": [],
   "source": [
    "print(avg_emp_length)"
   ]
  },
  {
   "cell_type": "code",
   "execution_count": 32,
   "id": "2b4bc3c7",
   "metadata": {},
   "outputs": [],
   "source": [
    "avg_emp_duration = avg_emp_length[0][0]"
   ]
  },
  {
   "cell_type": "code",
   "execution_count": 33,
   "id": "92091e93",
   "metadata": {},
   "outputs": [
    {
     "name": "stdout",
     "output_type": "stream",
     "text": [
      "6\n"
     ]
    }
   ],
   "source": [
    "print(avg_emp_duration)"
   ]
  },
  {
   "cell_type": "code",
   "execution_count": 34,
   "id": "9007aa0b",
   "metadata": {},
   "outputs": [],
   "source": [
    "customers_emplength_replaced = customers_emplength_casted.na.fill(avg_emp_duration, subset=['emp_length'])"
   ]
  },
  {
   "cell_type": "code",
   "execution_count": 35,
   "id": "50f42e6f",
   "metadata": {},
   "outputs": [
    {
     "data": {
      "text/html": [
       "<table border='1'>\n",
       "<tr><th>member_id</th><th>emp_title</th><th>emp_length</th><th>home_ownership</th><th>annual_income</th><th>address_state</th><th>address_zipcode</th><th>address_country</th><th>grade</th><th>sub_grade</th><th>verification_status</th><th>tot_hi_cred_lim</th><th>application_type</th><th>join_annual_income</th><th>verification_status_joint</th><th>ingest_date</th></tr>\n",
       "<tr><td>e5324e6ec6668c91a...</td><td>forman</td><td>10</td><td>RENT</td><td>100000.0</td><td>NJ</td><td>074xx</td><td>USA</td><td>C</td><td>C2</td><td>Verified</td><td>50640.0</td><td>Individual</td><td>null</td><td>null</td><td>2023-10-04 05:38:...</td></tr>\n",
       "<tr><td>a9a8fcbcde5d446bb...</td><td>Lead clerk</td><td>10</td><td>MORTGAGE</td><td>55000.0</td><td>CA</td><td>958xx</td><td>USA</td><td>D</td><td>D3</td><td>Not Verified</td><td>266596.0</td><td>Individual</td><td>null</td><td>null</td><td>2023-10-04 05:38:...</td></tr>\n",
       "<tr><td>b711748d9cacaeb06...</td><td>SECONDARY MARKETI...</td><td>1</td><td>RENT</td><td>35360.0</td><td>CA</td><td>928xx</td><td>USA</td><td>B</td><td>B5</td><td>Source Verified</td><td>16000.0</td><td>Individual</td><td>null</td><td>null</td><td>2023-10-04 05:38:...</td></tr>\n",
       "<tr><td>00b2d0e6089cb33ed...</td><td>Police Sergeant</td><td>9</td><td>RENT</td><td>62000.0</td><td>VA</td><td>236xx</td><td>USA</td><td>C</td><td>C4</td><td>Not Verified</td><td>174524.0</td><td>Individual</td><td>null</td><td>null</td><td>2023-10-04 05:38:...</td></tr>\n",
       "<tr><td>7f0f9bb5da43380c6...</td><td>laborer</td><td>1</td><td>RENT</td><td>38400.0</td><td>IN</td><td>461xx</td><td>USA</td><td>D</td><td>D3</td><td>Source Verified</td><td>7300.0</td><td>Individual</td><td>null</td><td>null</td><td>2023-10-04 05:38:...</td></tr>\n",
       "<tr><td>13663735f3a3e3c03...</td><td>Health Unit Coord...</td><td>10</td><td>RENT</td><td>50000.0</td><td>OH</td><td>441xx</td><td>USA</td><td>B</td><td>B1</td><td>Not Verified</td><td>67458.0</td><td>Individual</td><td>null</td><td>null</td><td>2023-10-04 05:38:...</td></tr>\n",
       "<tr><td>f7d087e0bd0e26a95...</td><td>Compliance Manager</td><td>2</td><td>MORTGAGE</td><td>61200.0</td><td>OK</td><td>731xx</td><td>USA</td><td>C</td><td>C2</td><td>Verified</td><td>277246.0</td><td>Individual</td><td>null</td><td>null</td><td>2023-10-04 05:38:...</td></tr>\n",
       "<tr><td>bbaf77dea69ad59ba...</td><td>DIRECT CARE WORKER</td><td>3</td><td>OWN</td><td>25000.0</td><td>MO</td><td>654xx</td><td>USA</td><td>C</td><td>C3</td><td>Source Verified</td><td>29198.0</td><td>Individual</td><td>null</td><td>null</td><td>2023-10-04 05:38:...</td></tr>\n",
       "<tr><td>3d5e1eb7b1a075d7c...</td><td>Office Manager</td><td>6</td><td>RENT</td><td>37900.0</td><td>HI</td><td>967xx</td><td>USA</td><td>D</td><td>D2</td><td>Verified</td><td>72700.0</td><td>Individual</td><td>null</td><td>null</td><td>2023-10-04 05:38:...</td></tr>\n",
       "<tr><td>612623c0c3a9d059b...</td><td>null</td><td>6</td><td>MORTGAGE</td><td>65000.0</td><td>WV</td><td>249xx</td><td>USA</td><td>C</td><td>C3</td><td>Source Verified</td><td>42392.0</td><td>Individual</td><td>null</td><td>null</td><td>2023-10-04 05:38:...</td></tr>\n",
       "<tr><td>86b996b457fd7638b...</td><td>server</td><td>10</td><td>MORTGAGE</td><td>21000.0</td><td>TN</td><td>378xx</td><td>USA</td><td>D</td><td>D5</td><td>Not Verified</td><td>86950.0</td><td>Individual</td><td>null</td><td>null</td><td>2023-10-04 05:38:...</td></tr>\n",
       "<tr><td>10d1178370753206e...</td><td>Sales manager</td><td>9</td><td>MORTGAGE</td><td>51500.0</td><td>NY</td><td>144xx</td><td>USA</td><td>C</td><td>C2</td><td>Verified</td><td>304168.0</td><td>Individual</td><td>null</td><td>null</td><td>2023-10-04 05:38:...</td></tr>\n",
       "<tr><td>e1c04d04868a0a682...</td><td>null</td><td>6</td><td>OWN</td><td>30000.0</td><td>AL</td><td>352xx</td><td>USA</td><td>G</td><td>G4</td><td>Verified</td><td>30937.0</td><td>Individual</td><td>null</td><td>null</td><td>2023-10-04 05:38:...</td></tr>\n",
       "<tr><td>dd95dd1fecfde9f21...</td><td>null</td><td>6</td><td>OWN</td><td>47000.0</td><td>NY</td><td>104xx</td><td>USA</td><td>C</td><td>C4</td><td>Verified</td><td>16000.0</td><td>Individual</td><td>null</td><td>null</td><td>2023-10-04 05:38:...</td></tr>\n",
       "<tr><td>fa3bfaa15168f2d93...</td><td>Realtor</td><td>8</td><td>RENT</td><td>101000.0</td><td>CA</td><td>924xx</td><td>USA</td><td>E</td><td>E2</td><td>Source Verified</td><td>69327.0</td><td>Individual</td><td>null</td><td>null</td><td>2023-10-04 05:38:...</td></tr>\n",
       "<tr><td>b85b44eefc1b1fbe6...</td><td>null</td><td>6</td><td>MORTGAGE</td><td>41424.0</td><td>CO</td><td>802xx</td><td>USA</td><td>B</td><td>B5</td><td>Verified</td><td>238009.0</td><td>Individual</td><td>null</td><td>null</td><td>2023-10-04 05:38:...</td></tr>\n",
       "<tr><td>11beb90f7a59a919f...</td><td>Product Manager</td><td>4</td><td>RENT</td><td>89000.0</td><td>NY</td><td>112xx</td><td>USA</td><td>C</td><td>C1</td><td>Source Verified</td><td>7400.0</td><td>Individual</td><td>null</td><td>null</td><td>2023-10-04 05:38:...</td></tr>\n",
       "<tr><td>ad5b7785003587023...</td><td>Jail administrator</td><td>3</td><td>RENT</td><td>50000.0</td><td>OH</td><td>441xx</td><td>USA</td><td>C</td><td>C5</td><td>Not Verified</td><td>48064.0</td><td>Individual</td><td>null</td><td>null</td><td>2023-10-04 05:38:...</td></tr>\n",
       "<tr><td>310d9e8d030c2bd8e...</td><td>Account Executive</td><td>1</td><td>MORTGAGE</td><td>110000.0</td><td>MO</td><td>633xx</td><td>USA</td><td>B</td><td>B4</td><td>Source Verified</td><td>308583.0</td><td>Individual</td><td>null</td><td>null</td><td>2023-10-04 05:38:...</td></tr>\n",
       "<tr><td>43ea746e5009aeb83...</td><td>Senior administrator</td><td>3</td><td>RENT</td><td>70000.0</td><td>MD</td><td>208xx</td><td>USA</td><td>B</td><td>B1</td><td>Source Verified</td><td>48659.0</td><td>Individual</td><td>null</td><td>null</td><td>2023-10-04 05:38:...</td></tr>\n",
       "</table>\n",
       "only showing top 20 rows\n"
      ],
      "text/plain": [
       "+--------------------+--------------------+----------+--------------+-------------+-------------+---------------+---------------+-----+---------+-------------------+---------------+----------------+------------------+-------------------------+--------------------+\n",
       "|           member_id|           emp_title|emp_length|home_ownership|annual_income|address_state|address_zipcode|address_country|grade|sub_grade|verification_status|tot_hi_cred_lim|application_type|join_annual_income|verification_status_joint|         ingest_date|\n",
       "+--------------------+--------------------+----------+--------------+-------------+-------------+---------------+---------------+-----+---------+-------------------+---------------+----------------+------------------+-------------------------+--------------------+\n",
       "|18d46eb3e14a42e71...|        Fire Fighter|        10|      MORTGAGE|      55000.0|           GA|          302xx|            USA|    C|       C2|       Not Verified|       220316.0|      Individual|              null|                     null|2023-10-04 05:38:...|\n",
       "|104ee90ed3b0b8780...|        Sr. Director|         2|      MORTGAGE|     100000.0|           NY|          107xx|            USA|    B|       B2|    Source Verified|       373175.0|      Individual|              null|                     null|2023-10-04 05:38:...|\n",
       "|1c0e7a28d137531ef...|               sales|        10|      MORTGAGE|      50000.0|           TX|          788xx|            USA|    D|       D3|    Source Verified|       115840.0|      Individual|              null|                     null|2023-10-04 05:38:...|\n",
       "|6ca7984eaaed7403d...|             Manager|         6|      MORTGAGE|      84000.0|           NY|          114xx|            USA|    C|       C3|    Source Verified|       442352.0|      Individual|              null|                     null|2023-10-04 05:38:...|\n",
       "|e208bce1f2f07d2c2...|         service tec|         8|      MORTGAGE|      89000.0|           VA|          230xx|            USA|    B|       B4|       Not Verified|       251252.0|      Individual|              null|                     null|2023-10-04 05:38:...|\n",
       "|69df56a361600de61...|      designer/sales|         3|          RENT|      27000.0|           GA|          305xx|            USA|    D|       D2|    Source Verified|        22709.0|      Individual|              null|                     null|2023-10-04 05:38:...|\n",
       "|80815777231a3c2fc...|         Director II|        10|      MORTGAGE|     115000.0|           CA|          953xx|            USA|    C|       C1|           Verified|       349106.0|      Individual|              null|                     null|2023-10-04 05:38:...|\n",
       "|77e3e94b81f696694...|                 RTR|        10|          RENT|      36000.0|           GA|          307xx|            USA|    D|       D5|           Verified|        19800.0|      Individual|              null|                     null|2023-10-04 05:38:...|\n",
       "|3da5a66d6327655c6...|     Medical Records|         2|          RENT|      25000.0|           CO|          800xx|            USA|    C|       C5|           Verified|        59544.0|      Individual|              null|                     null|2023-10-04 05:38:...|\n",
       "|d78ced342d11ad93e...|Front Office Manager|         2|          RENT|      37000.0|           PA|          150xx|            USA|    B|       B4|           Verified|        30636.0|      Individual|              null|                     null|2023-10-04 05:38:...|\n",
       "|7cc882bb7597d170a...|Director Informat...|        10|      MORTGAGE|     216000.0|           CT|          067xx|            USA|    A|       A5|    Source Verified|       336358.0|      Individual|              null|                     null|2023-10-04 05:38:...|\n",
       "|b2bffb6a80879571b...|Premium Account C...|         5|          RENT|      90000.0|           CA|          934xx|            USA|    C|       C5|    Source Verified|        39149.0|      Individual|              null|                     null|2023-10-04 05:38:...|\n",
       "|0438db7d05e5d1580...|Assistant Departm...|        10|          RENT|      75000.0|           CA|          919xx|            USA|    C|       C5|    Source Verified|       125357.0|      Individual|              null|                     null|2023-10-04 05:38:...|\n",
       "|f2d21ccbba4133294...|asst.supervisor t...|        10|      MORTGAGE|      78000.0|           NJ|          070xx|            USA|    E|       E3|    Source Verified|        42325.0|      Individual|              null|                     null|2023-10-04 05:38:...|\n",
       "|d57ecc3ba799678df...|       ships captain|        10|      MORTGAGE|     140000.0|           WA|          980xx|            USA|    A|       A3|       Not Verified|       497744.0|      Individual|              null|                     null|2023-10-04 05:38:...|\n",
       "|4d53ba73811a86bcb...|  RFP Senior Analyst|         2|      MORTGAGE|      92000.0|           IN|          460xx|            USA|    B|       B5|    Source Verified|       547845.0|      Individual|              null|                     null|2023-10-04 05:38:...|\n",
       "|6320b80b01c196eff...|    Freelance Writer|         2|          RENT|      22000.0|           DC|          200xx|            USA|    B|       B5|    Source Verified|         4529.0|      Individual|              null|                     null|2023-10-04 05:38:...|\n",
       "|cecd354f0da22c393...|               Sales|         3|          RENT|      58000.0|           VA|          221xx|            USA|    C|       C2|       Not Verified|        48400.0|      Individual|              null|                     null|2023-10-04 05:38:...|\n",
       "|67700b178e6b96569...|Lerning & Develop...|         9|      MORTGAGE|     110000.0|           CA|          934xx|            USA|    B|       B2|       Not Verified|       479435.0|      Individual|              null|                     null|2023-10-04 05:38:...|\n",
       "|544f8f49f3bf035ad...|Human Resources A...|         3|      MORTGAGE|      58000.0|           OR|          972xx|            USA|    A|       A4|    Source Verified|       215050.0|      Individual|              null|                     null|2023-10-04 05:38:...|\n",
       "+--------------------+--------------------+----------+--------------+-------------+-------------+---------------+---------------+-----+---------+-------------------+---------------+----------------+------------------+-------------------------+--------------------+\n",
       "only showing top 20 rows"
      ]
     },
     "execution_count": 35,
     "metadata": {},
     "output_type": "execute_result"
    }
   ],
   "source": [
    "customers_emplength_replaced"
   ]
  },
  {
   "cell_type": "code",
   "execution_count": 36,
   "id": "193d0e1d",
   "metadata": {},
   "outputs": [
    {
     "data": {
      "text/plain": [
       "0"
      ]
     },
     "execution_count": 36,
     "metadata": {},
     "output_type": "execute_result"
    }
   ],
   "source": [
    "customers_emplength_replaced.filter(\"emp_length is null\").count()"
   ]
  },
  {
   "cell_type": "markdown",
   "id": "41f9d67e",
   "metadata": {},
   "source": [
    "#### 8. Clean the address_state(it should be 2 characters only),replace all others with NA"
   ]
  },
  {
   "cell_type": "code",
   "execution_count": 37,
   "id": "fe58c114",
   "metadata": {},
   "outputs": [],
   "source": [
    "customers_emplength_replaced.createOrReplaceTempView(\"customers\")"
   ]
  },
  {
   "cell_type": "code",
   "execution_count": 38,
   "id": "b8d26492",
   "metadata": {},
   "outputs": [
    {
     "data": {
      "text/html": [
       "<table border='1'>\n",
       "<tr><th>address_state</th></tr>\n",
       "<tr><td>Helping Kenya&#x27;s D...</td></tr>\n",
       "<tr><td>223xx</td></tr>\n",
       "<tr><td>175 (total projec...</td></tr>\n",
       "<tr><td>AZ</td></tr>\n",
       "<tr><td>SC</td></tr>\n",
       "<tr><td>I am 56 yrs. old ...</td></tr>\n",
       "<tr><td>so Plan &quot;&quot;C&quot;&quot; is ...</td></tr>\n",
       "<tr><td>financially I mad...</td></tr>\n",
       "<tr><td>but no one will l...</td></tr>\n",
       "<tr><td>LA</td></tr>\n",
       "<tr><td>etc.  First</td></tr>\n",
       "<tr><td>MN</td></tr>\n",
       "<tr><td>yet Capital One n...</td></tr>\n",
       "<tr><td>499xx</td></tr>\n",
       "<tr><td>850xx</td></tr>\n",
       "<tr><td>Eliminating Credi...</td></tr>\n",
       "<tr><td>Advocate business...</td></tr>\n",
       "<tr><td>and MBA&#x27;s are ove...</td></tr>\n",
       "<tr><td>951xx</td></tr>\n",
       "<tr><td>662xx</td></tr>\n",
       "</table>\n",
       "only showing top 20 rows\n"
      ],
      "text/plain": [
       "+--------------------+\n",
       "|       address_state|\n",
       "+--------------------+\n",
       "|Helping Kenya's D...|\n",
       "|175 (total projec...|\n",
       "|               223xx|\n",
       "|                  SC|\n",
       "|                  AZ|\n",
       "|so Plan \"\"C\"\" is ...|\n",
       "|I am 56 yrs. old ...|\n",
       "|financially I mad...|\n",
       "|but no one will l...|\n",
       "|                  LA|\n",
       "|         etc.  First|\n",
       "|                  MN|\n",
       "|               499xx|\n",
       "|yet Capital One n...|\n",
       "|               850xx|\n",
       "|and MBA's are ove...|\n",
       "|Eliminating Credi...|\n",
       "|Advocate business...|\n",
       "|I the credit card...|\n",
       "|               951xx|\n",
       "+--------------------+\n",
       "only showing top 20 rows"
      ]
     },
     "execution_count": 38,
     "metadata": {},
     "output_type": "execute_result"
    }
   ],
   "source": [
    "spark.sql(\"select distinct(address_state) from customers\")"
   ]
  },
  {
   "cell_type": "code",
   "execution_count": 39,
   "id": "b64e6c02",
   "metadata": {},
   "outputs": [
    {
     "data": {
      "text/html": [
       "<table border='1'>\n",
       "<tr><th>count(address_state)</th></tr>\n",
       "<tr><td>254</td></tr>\n",
       "</table>\n"
      ],
      "text/plain": [
       "+--------------------+\n",
       "|count(address_state)|\n",
       "+--------------------+\n",
       "|                 254|\n",
       "+--------------------+"
      ]
     },
     "execution_count": 39,
     "metadata": {},
     "output_type": "execute_result"
    }
   ],
   "source": [
    "spark.sql(\"select count(address_state) from customers where length(address_state)>2\")"
   ]
  },
  {
   "cell_type": "code",
   "execution_count": 40,
   "id": "121de264",
   "metadata": {},
   "outputs": [],
   "source": [
    "from pyspark.sql.functions import when, col, length"
   ]
  },
  {
   "cell_type": "code",
   "execution_count": 41,
   "id": "461d7a1d",
   "metadata": {},
   "outputs": [],
   "source": [
    "customers_state_cleaned = customers_emplength_replaced.withColumn(\n",
    "    \"address_state\",\n",
    "    when(length(col(\"address_state\"))> 2, \"NA\").otherwise(col(\"address_state\"))\n",
    ")"
   ]
  },
  {
   "cell_type": "code",
   "execution_count": 42,
   "id": "20991f4a",
   "metadata": {},
   "outputs": [
    {
     "data": {
      "text/html": [
       "<table border='1'>\n",
       "<tr><th>member_id</th><th>emp_title</th><th>emp_length</th><th>home_ownership</th><th>annual_income</th><th>address_state</th><th>address_zipcode</th><th>address_country</th><th>grade</th><th>sub_grade</th><th>verification_status</th><th>tot_hi_cred_lim</th><th>application_type</th><th>join_annual_income</th><th>verification_status_joint</th><th>ingest_date</th></tr>\n",
       "<tr><td>d16e2f99a726e8326...</td><td>Sr. Network Desig...</td><td>8</td><td>MORTGAGE</td><td>82000.0</td><td>GA</td><td>301xx</td><td>USA</td><td>B</td><td>B4</td><td>Source Verified</td><td>427673.0</td><td>Individual</td><td>null</td><td>null</td><td>2023-10-04 05:38:...</td></tr>\n",
       "<tr><td>39c7ce3e4838895b4...</td><td>VP Marketing</td><td>10</td><td>RENT</td><td>155000.0</td><td>NY</td><td>105xx</td><td>USA</td><td>B</td><td>B3</td><td>Not Verified</td><td>92200.0</td><td>Individual</td><td>null</td><td>null</td><td>2023-10-04 05:38:...</td></tr>\n",
       "<tr><td>b061c1f3197c674d1...</td><td>Driver</td><td>9</td><td>RENT</td><td>93000.0</td><td>HI</td><td>967xx</td><td>USA</td><td>C</td><td>C5</td><td>Verified</td><td>130019.0</td><td>Individual</td><td>null</td><td>null</td><td>2023-10-04 05:38:...</td></tr>\n",
       "<tr><td>c728d0bd111b0240e...</td><td>Transport Driver ...</td><td>10</td><td>MORTGAGE</td><td>130000.0</td><td>TX</td><td>775xx</td><td>USA</td><td>C</td><td>C5</td><td>Source Verified</td><td>172012.0</td><td>Individual</td><td>null</td><td>null</td><td>2023-10-04 05:38:...</td></tr>\n",
       "<tr><td>4fe2c555c12ec7e02...</td><td>Office Manager</td><td>10</td><td>MORTGAGE</td><td>62000.0</td><td>WA</td><td>985xx</td><td>USA</td><td>F</td><td>F1</td><td>Verified</td><td>333602.0</td><td>Individual</td><td>null</td><td>null</td><td>2023-10-04 05:38:...</td></tr>\n",
       "<tr><td>1e4d2744d484898a7...</td><td>Senior Accountant</td><td>10</td><td>OWN</td><td>74000.0</td><td>KS</td><td>662xx</td><td>USA</td><td>B</td><td>B3</td><td>Verified</td><td>324392.0</td><td>Individual</td><td>null</td><td>null</td><td>2023-10-04 05:38:...</td></tr>\n",
       "<tr><td>4888e607570b21f6c...</td><td>5th Grade Teacher</td><td>10</td><td>MORTGAGE</td><td>72000.0</td><td>GA</td><td>398xx</td><td>USA</td><td>A</td><td>A2</td><td>Verified</td><td>213654.0</td><td>Individual</td><td>null</td><td>null</td><td>2023-10-04 05:38:...</td></tr>\n",
       "<tr><td>03dc367806c43d74d...</td><td>purchaser</td><td>10</td><td>RENT</td><td>59000.0</td><td>CA</td><td>921xx</td><td>USA</td><td>B</td><td>B3</td><td>Verified</td><td>75835.0</td><td>Individual</td><td>null</td><td>null</td><td>2023-10-04 05:38:...</td></tr>\n",
       "<tr><td>59af1f6dae2947b4a...</td><td>Engineer</td><td>10</td><td>MORTGAGE</td><td>110000.0</td><td>OH</td><td>453xx</td><td>USA</td><td>C</td><td>C4</td><td>Source Verified</td><td>296094.0</td><td>Individual</td><td>null</td><td>null</td><td>2023-10-04 05:38:...</td></tr>\n",
       "<tr><td>4ec343b2e7c664944...</td><td>teachers aide</td><td>10</td><td>MORTGAGE</td><td>35000.0</td><td>MO</td><td>641xx</td><td>USA</td><td>F</td><td>F3</td><td>Verified</td><td>65428.0</td><td>Individual</td><td>null</td><td>null</td><td>2023-10-04 05:38:...</td></tr>\n",
       "<tr><td>a730ffb90506a5eaf...</td><td>Lead Journeyman C...</td><td>4</td><td>RENT</td><td>65000.0</td><td>CA</td><td>950xx</td><td>USA</td><td>B</td><td>B2</td><td>Not Verified</td><td>64907.0</td><td>Individual</td><td>null</td><td>null</td><td>2023-10-04 05:38:...</td></tr>\n",
       "<tr><td>3128114582104e79d...</td><td>teacher</td><td>10</td><td>MORTGAGE</td><td>120000.0</td><td>NY</td><td>117xx</td><td>USA</td><td>D</td><td>D5</td><td>Source Verified</td><td>130999.0</td><td>Individual</td><td>null</td><td>null</td><td>2023-10-04 05:38:...</td></tr>\n",
       "<tr><td>3f19061792b28caea...</td><td>Admin</td><td>10</td><td>MORTGAGE</td><td>60000.0</td><td>CA</td><td>913xx</td><td>USA</td><td>A</td><td>A5</td><td>Verified</td><td>53518.0</td><td>Individual</td><td>null</td><td>null</td><td>2023-10-04 05:38:...</td></tr>\n",
       "<tr><td>9d4d3e50143a4b889...</td><td>Victim Advocate</td><td>2</td><td>MORTGAGE</td><td>42000.0</td><td>NV</td><td>895xx</td><td>USA</td><td>B</td><td>B2</td><td>Not Verified</td><td>150643.0</td><td>Individual</td><td>null</td><td>null</td><td>2023-10-04 05:38:...</td></tr>\n",
       "<tr><td>5672b8b6e7c4804c3...</td><td>Retail Sales Repr...</td><td>1</td><td>OWN</td><td>45000.0</td><td>NJ</td><td>086xx</td><td>USA</td><td>C</td><td>C1</td><td>Verified</td><td>94357.0</td><td>Individual</td><td>null</td><td>null</td><td>2023-10-04 05:38:...</td></tr>\n",
       "<tr><td>da6714c4a06fb7e7b...</td><td>Claims Manager</td><td>3</td><td>MORTGAGE</td><td>51519.0</td><td>TN</td><td>371xx</td><td>USA</td><td>E</td><td>E3</td><td>Not Verified</td><td>220338.0</td><td>Individual</td><td>null</td><td>null</td><td>2023-10-04 05:38:...</td></tr>\n",
       "<tr><td>a9811349746bd2f39...</td><td>acount manager</td><td>10</td><td>MORTGAGE</td><td>86000.0</td><td>FL</td><td>330xx</td><td>USA</td><td>D</td><td>D2</td><td>Verified</td><td>370067.0</td><td>Individual</td><td>null</td><td>null</td><td>2023-10-04 05:38:...</td></tr>\n",
       "<tr><td>31d5deee5c1cef10a...</td><td>Store Manager</td><td>10</td><td>RENT</td><td>65000.0</td><td>NY</td><td>121xx</td><td>USA</td><td>C</td><td>C3</td><td>Source Verified</td><td>35674.0</td><td>Individual</td><td>null</td><td>null</td><td>2023-10-04 05:38:...</td></tr>\n",
       "<tr><td>b6e0ce19dfe869d41...</td><td>Training Specialist</td><td>1</td><td>MORTGAGE</td><td>43000.0</td><td>IN</td><td>475xx</td><td>USA</td><td>B</td><td>B5</td><td>Source Verified</td><td>271762.0</td><td>Individual</td><td>null</td><td>null</td><td>2023-10-04 05:38:...</td></tr>\n",
       "<tr><td>5159a0bc741223014...</td><td>electronic techni...</td><td>9</td><td>MORTGAGE</td><td>60000.0</td><td>CA</td><td>921xx</td><td>USA</td><td>C</td><td>C2</td><td>Not Verified</td><td>47265.0</td><td>Individual</td><td>null</td><td>null</td><td>2023-10-04 05:38:...</td></tr>\n",
       "</table>\n",
       "only showing top 20 rows\n"
      ],
      "text/plain": [
       "+--------------------+--------------------+----------+--------------+-------------+-------------+---------------+---------------+-----+---------+-------------------+---------------+----------------+------------------+-------------------------+--------------------+\n",
       "|           member_id|           emp_title|emp_length|home_ownership|annual_income|address_state|address_zipcode|address_country|grade|sub_grade|verification_status|tot_hi_cred_lim|application_type|join_annual_income|verification_status_joint|         ingest_date|\n",
       "+--------------------+--------------------+----------+--------------+-------------+-------------+---------------+---------------+-----+---------+-------------------+---------------+----------------+------------------+-------------------------+--------------------+\n",
       "|241db6044285dac88...|                null|         6|          RENT|      15000.0|           IL|          614xx|            USA|    B|       B4|       Not Verified|        20825.0|      Individual|              null|                     null|2023-10-04 05:38:...|\n",
       "|bd4052cdebbe1e335...|       Dealer Center|        10|           OWN|      52000.0|           CA|          945xx|            USA|    D|       D1|           Verified|       283000.0|      Individual|              null|                     null|2023-10-04 05:38:...|\n",
       "|8d94e46facf4afd75...|        Truck driver|        10|      MORTGAGE|      75000.0|           TX|          797xx|            USA|    B|       B2|    Source Verified|       126003.0|      Individual|              null|                     null|2023-10-04 05:38:...|\n",
       "|06e165e3eb8861c5a...|                null|         6|      MORTGAGE|      79000.0|           TN|          373xx|            USA|    C|       C1|       Not Verified|       238159.0|      Individual|              null|                     null|2023-10-04 05:38:...|\n",
       "|067e118fb4763926d...|                null|         6|           OWN|      39433.0|           TX|          785xx|            USA|    A|       A4|           Verified|        31828.0|      Individual|              null|                     null|2023-10-04 05:38:...|\n",
       "|d7574166c13bb0c80...|               Owner|        10|      MORTGAGE|      63000.0|           NC|          272xx|            USA|    D|       D5|    Source Verified|       147899.0|      Individual|              null|                     null|2023-10-04 05:38:...|\n",
       "|f0b597990ec2a3040...|                null|         6|          RENT|      54000.0|           NV|          894xx|            USA|    C|       C4|    Source Verified|        34900.0|      Individual|              null|                     null|2023-10-04 05:38:...|\n",
       "|7ee995178547250ea...|     Deputy Sherriff|        10|      MORTGAGE|     120000.0|           CA|          958xx|            USA|    A|       A4|       Not Verified|       181877.0|      Individual|              null|                     null|2023-10-04 05:38:...|\n",
       "|e8ada0cc43f82f03d...|      police captain|        10|      MORTGAGE|     130000.0|           NY|          103xx|            USA|    D|       D2|           Verified|       436670.0|      Individual|              null|                     null|2023-10-04 05:38:...|\n",
       "|1ed45903c698e4abe...|Office Administrator|        10|      MORTGAGE|     170000.0|           CA|          930xx|            USA|    B|       B4|    Source Verified|       437140.0|      Individual|              null|                     null|2023-10-04 05:38:...|\n",
       "|8fa560da7e36423f7...|    Dental Hygeinist|        10|      MORTGAGE|      72000.0|           OH|          430xx|            USA|    A|       A3|           Verified|       137100.0|       Joint App|          112000.0|          Source Verified|2023-10-04 05:38:...|\n",
       "|47bb5bb94564054de...|     Senior Director|        10|          RENT|     155924.0|           NY|          100xx|            USA|    B|       B4|    Source Verified|        81216.0|      Individual|              null|                     null|2023-10-04 05:38:...|\n",
       "|892de68f95becee2f...| maintenance planner|        10|      MORTGAGE|     130000.0|           NM|          874xx|            USA|    B|       B1|       Not Verified|       288657.0|      Individual|              null|                     null|2023-10-04 05:38:...|\n",
       "|b40682b306e4a7084...|Assistant Propert...|         1|          RENT|      48000.0|           CA|          940xx|            USA|    B|       B4|    Source Verified|        14900.0|      Individual|              null|                     null|2023-10-04 05:38:...|\n",
       "|e43d8ab4e5fcc4ef2...|Operations Manage...|         4|          RENT|      68000.0|           IL|          611xx|            USA|    A|       A1|    Source Verified|       187393.0|      Individual|              null|                     null|2023-10-04 05:38:...|\n",
       "|fc3b33f858ae7c6e7...|   Golf Course Staff|        10|      MORTGAGE|      62000.0|           NC|          278xx|            USA|    B|       B5|    Source Verified|       148900.0|      Individual|              null|                     null|2023-10-04 05:38:...|\n",
       "|86f6ecb0a1143fada...|Medical Administr...|        10|      MORTGAGE|      98000.0|           MD|          212xx|            USA|    C|       C2|    Source Verified|       166984.0|      Individual|              null|                     null|2023-10-04 05:38:...|\n",
       "|023265510340981ea...|            Mechanic|        10|      MORTGAGE|     75718.87|           DE|          199xx|            USA|    A|       A3|    Source Verified|       330265.0|      Individual|              null|                     null|2023-10-04 05:38:...|\n",
       "|06d8b2dc38cf9b8bd...|   Massage Therapist|         7|          RENT|      40000.0|           MD|          210xx|            USA|    D|       D2|       Not Verified|        67825.0|       Joint App|           85000.0|             Not Verified|2023-10-04 05:38:...|\n",
       "|f055e21dc8e5e0be4...|                  Rt|         1|          RENT|      60000.0|           CA|          925xx|            USA|    A|       A1|    Source Verified|        91742.0|      Individual|              null|                     null|2023-10-04 05:38:...|\n",
       "+--------------------+--------------------+----------+--------------+-------------+-------------+---------------+---------------+-----+---------+-------------------+---------------+----------------+------------------+-------------------------+--------------------+\n",
       "only showing top 20 rows"
      ]
     },
     "execution_count": 42,
     "metadata": {},
     "output_type": "execute_result"
    }
   ],
   "source": [
    "customers_state_cleaned"
   ]
  },
  {
   "cell_type": "code",
   "execution_count": 43,
   "id": "c201667c",
   "metadata": {},
   "outputs": [
    {
     "data": {
      "text/html": [
       "<table border='1'>\n",
       "<tr><th>address_state</th></tr>\n",
       "<tr><td>AZ</td></tr>\n",
       "<tr><td>SC</td></tr>\n",
       "<tr><td>LA</td></tr>\n",
       "<tr><td>MN</td></tr>\n",
       "<tr><td>NJ</td></tr>\n",
       "<tr><td>DC</td></tr>\n",
       "<tr><td>OR</td></tr>\n",
       "<tr><td>NA</td></tr>\n",
       "<tr><td>VA</td></tr>\n",
       "<tr><td>null</td></tr>\n",
       "<tr><td>RI</td></tr>\n",
       "<tr><td>KY</td></tr>\n",
       "<tr><td>WY</td></tr>\n",
       "<tr><td>NH</td></tr>\n",
       "<tr><td>MI</td></tr>\n",
       "<tr><td>NV</td></tr>\n",
       "<tr><td>WI</td></tr>\n",
       "<tr><td>ID</td></tr>\n",
       "<tr><td>CA</td></tr>\n",
       "<tr><td>CT</td></tr>\n",
       "</table>\n",
       "only showing top 20 rows\n"
      ],
      "text/plain": [
       "+-------------+\n",
       "|address_state|\n",
       "+-------------+\n",
       "|           SC|\n",
       "|           AZ|\n",
       "|           LA|\n",
       "|           MN|\n",
       "|           NJ|\n",
       "|           DC|\n",
       "|           OR|\n",
       "|           NA|\n",
       "|           VA|\n",
       "|         null|\n",
       "|           RI|\n",
       "|           WY|\n",
       "|           KY|\n",
       "|           NH|\n",
       "|           MI|\n",
       "|           NV|\n",
       "|           WI|\n",
       "|           ID|\n",
       "|           CA|\n",
       "|           NE|\n",
       "+-------------+\n",
       "only showing top 20 rows"
      ]
     },
     "execution_count": 43,
     "metadata": {},
     "output_type": "execute_result"
    }
   ],
   "source": [
    "customers_state_cleaned.select(\"address_state\").distinct()"
   ]
  },
  {
   "cell_type": "code",
   "execution_count": 44,
   "id": "d01a9c85",
   "metadata": {},
   "outputs": [],
   "source": [
    "customers_state_cleaned.write \\\n",
    ".format(\"parquet\") \\\n",
    ".mode(\"overwrite\") \\\n",
    ".option(\"path\", \"/user/itv006277/lendingclubproject/raw/cleaned/customers_parquet\") \\\n",
    ".save()"
   ]
  },
  {
   "cell_type": "code",
   "execution_count": 45,
   "id": "990c978c",
   "metadata": {},
   "outputs": [],
   "source": [
    "customers_state_cleaned.write \\\n",
    ".option(\"header\", True) \\\n",
    ".format(\"csv\") \\\n",
    ".mode(\"overwrite\") \\\n",
    ".option(\"path\", \"/user/itv006277/lendingclubproject/raw/cleaned/customers_csv\") \\\n",
    ".save()"
   ]
  }
 ],
 "metadata": {
  "kernelspec": {
   "display_name": "Pyspark 3",
   "language": "python",
   "name": "pyspark3"
  },
  "language_info": {
   "codemirror_mode": {
    "name": "ipython",
    "version": 3
   },
   "file_extension": ".py",
   "mimetype": "text/x-python",
   "name": "python",
   "nbconvert_exporter": "python",
   "pygments_lexer": "ipython3",
   "version": "3.6.12"
  }
 },
 "nbformat": 4,
 "nbformat_minor": 5
}
